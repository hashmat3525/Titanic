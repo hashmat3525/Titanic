{
 "cells": [
  {
   "cell_type": "code",
   "execution_count": 6,
   "metadata": {},
   "outputs": [],
   "source": [
    "import numpy as np\n",
    "import pandas as pd\n",
    "from sklearn.model_selection import train_test_split\n",
    "from sklearn import preprocessing\n",
    "from sklearn.ensemble import RandomForestClassifier\n",
    "from sklearn import svm\n",
    "from sklearn.metrics import precision_score, recall_score\n",
    "import matplotlib.pyplot as plt\n"
   ]
  },
  {
   "cell_type": "code",
   "execution_count": null,
   "metadata": {},
   "outputs": [],
   "source": []
  },
  {
   "cell_type": "code",
   "execution_count": 7,
   "metadata": {},
   "outputs": [
    {
     "data": {
      "text/html": [
       "<div>\n",
       "<style scoped>\n",
       "    .dataframe tbody tr th:only-of-type {\n",
       "        vertical-align: middle;\n",
       "    }\n",
       "\n",
       "    .dataframe tbody tr th {\n",
       "        vertical-align: top;\n",
       "    }\n",
       "\n",
       "    .dataframe thead th {\n",
       "        text-align: right;\n",
       "    }\n",
       "</style>\n",
       "<table border=\"1\" class=\"dataframe\">\n",
       "  <thead>\n",
       "    <tr style=\"text-align: right;\">\n",
       "      <th></th>\n",
       "      <th>PassengerId</th>\n",
       "      <th>Survived</th>\n",
       "      <th>Pclass</th>\n",
       "      <th>Name</th>\n",
       "      <th>Sex</th>\n",
       "      <th>Age</th>\n",
       "      <th>SibSp</th>\n",
       "      <th>Parch</th>\n",
       "      <th>Ticket</th>\n",
       "      <th>Fare</th>\n",
       "      <th>Cabin</th>\n",
       "      <th>Embarked</th>\n",
       "    </tr>\n",
       "  </thead>\n",
       "  <tbody>\n",
       "    <tr>\n",
       "      <td>0</td>\n",
       "      <td>1</td>\n",
       "      <td>0</td>\n",
       "      <td>3</td>\n",
       "      <td>Braund, Mr. Owen Harris</td>\n",
       "      <td>male</td>\n",
       "      <td>22.0</td>\n",
       "      <td>1</td>\n",
       "      <td>0</td>\n",
       "      <td>A/5 21171</td>\n",
       "      <td>7.2500</td>\n",
       "      <td>NaN</td>\n",
       "      <td>S</td>\n",
       "    </tr>\n",
       "    <tr>\n",
       "      <td>1</td>\n",
       "      <td>2</td>\n",
       "      <td>1</td>\n",
       "      <td>1</td>\n",
       "      <td>Cumings, Mrs. John Bradley (Florence Briggs Th...</td>\n",
       "      <td>female</td>\n",
       "      <td>38.0</td>\n",
       "      <td>1</td>\n",
       "      <td>0</td>\n",
       "      <td>PC 17599</td>\n",
       "      <td>71.2833</td>\n",
       "      <td>C85</td>\n",
       "      <td>C</td>\n",
       "    </tr>\n",
       "    <tr>\n",
       "      <td>2</td>\n",
       "      <td>3</td>\n",
       "      <td>1</td>\n",
       "      <td>3</td>\n",
       "      <td>Heikkinen, Miss. Laina</td>\n",
       "      <td>female</td>\n",
       "      <td>26.0</td>\n",
       "      <td>0</td>\n",
       "      <td>0</td>\n",
       "      <td>STON/O2. 3101282</td>\n",
       "      <td>7.9250</td>\n",
       "      <td>NaN</td>\n",
       "      <td>S</td>\n",
       "    </tr>\n",
       "    <tr>\n",
       "      <td>3</td>\n",
       "      <td>4</td>\n",
       "      <td>1</td>\n",
       "      <td>1</td>\n",
       "      <td>Futrelle, Mrs. Jacques Heath (Lily May Peel)</td>\n",
       "      <td>female</td>\n",
       "      <td>35.0</td>\n",
       "      <td>1</td>\n",
       "      <td>0</td>\n",
       "      <td>113803</td>\n",
       "      <td>53.1000</td>\n",
       "      <td>C123</td>\n",
       "      <td>S</td>\n",
       "    </tr>\n",
       "    <tr>\n",
       "      <td>4</td>\n",
       "      <td>5</td>\n",
       "      <td>0</td>\n",
       "      <td>3</td>\n",
       "      <td>Allen, Mr. William Henry</td>\n",
       "      <td>male</td>\n",
       "      <td>35.0</td>\n",
       "      <td>0</td>\n",
       "      <td>0</td>\n",
       "      <td>373450</td>\n",
       "      <td>8.0500</td>\n",
       "      <td>NaN</td>\n",
       "      <td>S</td>\n",
       "    </tr>\n",
       "    <tr>\n",
       "      <td>...</td>\n",
       "      <td>...</td>\n",
       "      <td>...</td>\n",
       "      <td>...</td>\n",
       "      <td>...</td>\n",
       "      <td>...</td>\n",
       "      <td>...</td>\n",
       "      <td>...</td>\n",
       "      <td>...</td>\n",
       "      <td>...</td>\n",
       "      <td>...</td>\n",
       "      <td>...</td>\n",
       "      <td>...</td>\n",
       "    </tr>\n",
       "    <tr>\n",
       "      <td>886</td>\n",
       "      <td>887</td>\n",
       "      <td>0</td>\n",
       "      <td>2</td>\n",
       "      <td>Montvila, Rev. Juozas</td>\n",
       "      <td>male</td>\n",
       "      <td>27.0</td>\n",
       "      <td>0</td>\n",
       "      <td>0</td>\n",
       "      <td>211536</td>\n",
       "      <td>13.0000</td>\n",
       "      <td>NaN</td>\n",
       "      <td>S</td>\n",
       "    </tr>\n",
       "    <tr>\n",
       "      <td>887</td>\n",
       "      <td>888</td>\n",
       "      <td>1</td>\n",
       "      <td>1</td>\n",
       "      <td>Graham, Miss. Margaret Edith</td>\n",
       "      <td>female</td>\n",
       "      <td>19.0</td>\n",
       "      <td>0</td>\n",
       "      <td>0</td>\n",
       "      <td>112053</td>\n",
       "      <td>30.0000</td>\n",
       "      <td>B42</td>\n",
       "      <td>S</td>\n",
       "    </tr>\n",
       "    <tr>\n",
       "      <td>888</td>\n",
       "      <td>889</td>\n",
       "      <td>0</td>\n",
       "      <td>3</td>\n",
       "      <td>Johnston, Miss. Catherine Helen \"Carrie\"</td>\n",
       "      <td>female</td>\n",
       "      <td>NaN</td>\n",
       "      <td>1</td>\n",
       "      <td>2</td>\n",
       "      <td>W./C. 6607</td>\n",
       "      <td>23.4500</td>\n",
       "      <td>NaN</td>\n",
       "      <td>S</td>\n",
       "    </tr>\n",
       "    <tr>\n",
       "      <td>889</td>\n",
       "      <td>890</td>\n",
       "      <td>1</td>\n",
       "      <td>1</td>\n",
       "      <td>Behr, Mr. Karl Howell</td>\n",
       "      <td>male</td>\n",
       "      <td>26.0</td>\n",
       "      <td>0</td>\n",
       "      <td>0</td>\n",
       "      <td>111369</td>\n",
       "      <td>30.0000</td>\n",
       "      <td>C148</td>\n",
       "      <td>C</td>\n",
       "    </tr>\n",
       "    <tr>\n",
       "      <td>890</td>\n",
       "      <td>891</td>\n",
       "      <td>0</td>\n",
       "      <td>3</td>\n",
       "      <td>Dooley, Mr. Patrick</td>\n",
       "      <td>male</td>\n",
       "      <td>32.0</td>\n",
       "      <td>0</td>\n",
       "      <td>0</td>\n",
       "      <td>370376</td>\n",
       "      <td>7.7500</td>\n",
       "      <td>NaN</td>\n",
       "      <td>Q</td>\n",
       "    </tr>\n",
       "  </tbody>\n",
       "</table>\n",
       "<p>891 rows × 12 columns</p>\n",
       "</div>"
      ],
      "text/plain": [
       "     PassengerId  Survived  Pclass  \\\n",
       "0              1         0       3   \n",
       "1              2         1       1   \n",
       "2              3         1       3   \n",
       "3              4         1       1   \n",
       "4              5         0       3   \n",
       "..           ...       ...     ...   \n",
       "886          887         0       2   \n",
       "887          888         1       1   \n",
       "888          889         0       3   \n",
       "889          890         1       1   \n",
       "890          891         0       3   \n",
       "\n",
       "                                                  Name     Sex   Age  SibSp  \\\n",
       "0                              Braund, Mr. Owen Harris    male  22.0      1   \n",
       "1    Cumings, Mrs. John Bradley (Florence Briggs Th...  female  38.0      1   \n",
       "2                               Heikkinen, Miss. Laina  female  26.0      0   \n",
       "3         Futrelle, Mrs. Jacques Heath (Lily May Peel)  female  35.0      1   \n",
       "4                             Allen, Mr. William Henry    male  35.0      0   \n",
       "..                                                 ...     ...   ...    ...   \n",
       "886                              Montvila, Rev. Juozas    male  27.0      0   \n",
       "887                       Graham, Miss. Margaret Edith  female  19.0      0   \n",
       "888           Johnston, Miss. Catherine Helen \"Carrie\"  female   NaN      1   \n",
       "889                              Behr, Mr. Karl Howell    male  26.0      0   \n",
       "890                                Dooley, Mr. Patrick    male  32.0      0   \n",
       "\n",
       "     Parch            Ticket     Fare Cabin Embarked  \n",
       "0        0         A/5 21171   7.2500   NaN        S  \n",
       "1        0          PC 17599  71.2833   C85        C  \n",
       "2        0  STON/O2. 3101282   7.9250   NaN        S  \n",
       "3        0            113803  53.1000  C123        S  \n",
       "4        0            373450   8.0500   NaN        S  \n",
       "..     ...               ...      ...   ...      ...  \n",
       "886      0            211536  13.0000   NaN        S  \n",
       "887      0            112053  30.0000   B42        S  \n",
       "888      2        W./C. 6607  23.4500   NaN        S  \n",
       "889      0            111369  30.0000  C148        C  \n",
       "890      0            370376   7.7500   NaN        Q  \n",
       "\n",
       "[891 rows x 12 columns]"
      ]
     },
     "execution_count": 7,
     "metadata": {},
     "output_type": "execute_result"
    }
   ],
   "source": [
    "#reading train.csv\n",
    "data = pd.read_csv('train.csv')\n",
    "# show the actaul data\n",
    "data"
   ]
  },
  {
   "cell_type": "code",
   "execution_count": null,
   "metadata": {},
   "outputs": [],
   "source": []
  },
  {
   "cell_type": "code",
   "execution_count": 8,
   "metadata": {},
   "outputs": [
    {
     "data": {
      "text/html": [
       "<div>\n",
       "<style scoped>\n",
       "    .dataframe tbody tr th:only-of-type {\n",
       "        vertical-align: middle;\n",
       "    }\n",
       "\n",
       "    .dataframe tbody tr th {\n",
       "        vertical-align: top;\n",
       "    }\n",
       "\n",
       "    .dataframe thead th {\n",
       "        text-align: right;\n",
       "    }\n",
       "</style>\n",
       "<table border=\"1\" class=\"dataframe\">\n",
       "  <thead>\n",
       "    <tr style=\"text-align: right;\">\n",
       "      <th></th>\n",
       "      <th>PassengerId</th>\n",
       "      <th>Survived</th>\n",
       "      <th>Pclass</th>\n",
       "      <th>Name</th>\n",
       "      <th>Sex</th>\n",
       "      <th>Age</th>\n",
       "      <th>SibSp</th>\n",
       "      <th>Parch</th>\n",
       "      <th>Ticket</th>\n",
       "      <th>Fare</th>\n",
       "      <th>Cabin</th>\n",
       "      <th>Embarked</th>\n",
       "    </tr>\n",
       "  </thead>\n",
       "  <tbody>\n",
       "    <tr>\n",
       "      <td>0</td>\n",
       "      <td>1</td>\n",
       "      <td>0</td>\n",
       "      <td>3</td>\n",
       "      <td>Braund, Mr. Owen Harris</td>\n",
       "      <td>male</td>\n",
       "      <td>22.0</td>\n",
       "      <td>1</td>\n",
       "      <td>0</td>\n",
       "      <td>A/5 21171</td>\n",
       "      <td>7.2500</td>\n",
       "      <td>NaN</td>\n",
       "      <td>S</td>\n",
       "    </tr>\n",
       "    <tr>\n",
       "      <td>1</td>\n",
       "      <td>2</td>\n",
       "      <td>1</td>\n",
       "      <td>1</td>\n",
       "      <td>Cumings, Mrs. John Bradley (Florence Briggs Th...</td>\n",
       "      <td>female</td>\n",
       "      <td>38.0</td>\n",
       "      <td>1</td>\n",
       "      <td>0</td>\n",
       "      <td>PC 17599</td>\n",
       "      <td>71.2833</td>\n",
       "      <td>C85</td>\n",
       "      <td>C</td>\n",
       "    </tr>\n",
       "    <tr>\n",
       "      <td>2</td>\n",
       "      <td>3</td>\n",
       "      <td>1</td>\n",
       "      <td>3</td>\n",
       "      <td>Heikkinen, Miss. Laina</td>\n",
       "      <td>female</td>\n",
       "      <td>26.0</td>\n",
       "      <td>0</td>\n",
       "      <td>0</td>\n",
       "      <td>STON/O2. 3101282</td>\n",
       "      <td>7.9250</td>\n",
       "      <td>NaN</td>\n",
       "      <td>S</td>\n",
       "    </tr>\n",
       "    <tr>\n",
       "      <td>3</td>\n",
       "      <td>4</td>\n",
       "      <td>1</td>\n",
       "      <td>1</td>\n",
       "      <td>Futrelle, Mrs. Jacques Heath (Lily May Peel)</td>\n",
       "      <td>female</td>\n",
       "      <td>35.0</td>\n",
       "      <td>1</td>\n",
       "      <td>0</td>\n",
       "      <td>113803</td>\n",
       "      <td>53.1000</td>\n",
       "      <td>C123</td>\n",
       "      <td>S</td>\n",
       "    </tr>\n",
       "    <tr>\n",
       "      <td>4</td>\n",
       "      <td>5</td>\n",
       "      <td>0</td>\n",
       "      <td>3</td>\n",
       "      <td>Allen, Mr. William Henry</td>\n",
       "      <td>male</td>\n",
       "      <td>35.0</td>\n",
       "      <td>0</td>\n",
       "      <td>0</td>\n",
       "      <td>373450</td>\n",
       "      <td>8.0500</td>\n",
       "      <td>NaN</td>\n",
       "      <td>S</td>\n",
       "    </tr>\n",
       "    <tr>\n",
       "      <td>5</td>\n",
       "      <td>6</td>\n",
       "      <td>0</td>\n",
       "      <td>3</td>\n",
       "      <td>Moran, Mr. James</td>\n",
       "      <td>male</td>\n",
       "      <td>NaN</td>\n",
       "      <td>0</td>\n",
       "      <td>0</td>\n",
       "      <td>330877</td>\n",
       "      <td>8.4583</td>\n",
       "      <td>NaN</td>\n",
       "      <td>Q</td>\n",
       "    </tr>\n",
       "    <tr>\n",
       "      <td>6</td>\n",
       "      <td>7</td>\n",
       "      <td>0</td>\n",
       "      <td>1</td>\n",
       "      <td>McCarthy, Mr. Timothy J</td>\n",
       "      <td>male</td>\n",
       "      <td>54.0</td>\n",
       "      <td>0</td>\n",
       "      <td>0</td>\n",
       "      <td>17463</td>\n",
       "      <td>51.8625</td>\n",
       "      <td>E46</td>\n",
       "      <td>S</td>\n",
       "    </tr>\n",
       "    <tr>\n",
       "      <td>7</td>\n",
       "      <td>8</td>\n",
       "      <td>0</td>\n",
       "      <td>3</td>\n",
       "      <td>Palsson, Master. Gosta Leonard</td>\n",
       "      <td>male</td>\n",
       "      <td>2.0</td>\n",
       "      <td>3</td>\n",
       "      <td>1</td>\n",
       "      <td>349909</td>\n",
       "      <td>21.0750</td>\n",
       "      <td>NaN</td>\n",
       "      <td>S</td>\n",
       "    </tr>\n",
       "    <tr>\n",
       "      <td>8</td>\n",
       "      <td>9</td>\n",
       "      <td>1</td>\n",
       "      <td>3</td>\n",
       "      <td>Johnson, Mrs. Oscar W (Elisabeth Vilhelmina Berg)</td>\n",
       "      <td>female</td>\n",
       "      <td>27.0</td>\n",
       "      <td>0</td>\n",
       "      <td>2</td>\n",
       "      <td>347742</td>\n",
       "      <td>11.1333</td>\n",
       "      <td>NaN</td>\n",
       "      <td>S</td>\n",
       "    </tr>\n",
       "    <tr>\n",
       "      <td>9</td>\n",
       "      <td>10</td>\n",
       "      <td>1</td>\n",
       "      <td>2</td>\n",
       "      <td>Nasser, Mrs. Nicholas (Adele Achem)</td>\n",
       "      <td>female</td>\n",
       "      <td>14.0</td>\n",
       "      <td>1</td>\n",
       "      <td>0</td>\n",
       "      <td>237736</td>\n",
       "      <td>30.0708</td>\n",
       "      <td>NaN</td>\n",
       "      <td>C</td>\n",
       "    </tr>\n",
       "  </tbody>\n",
       "</table>\n",
       "</div>"
      ],
      "text/plain": [
       "   PassengerId  Survived  Pclass  \\\n",
       "0            1         0       3   \n",
       "1            2         1       1   \n",
       "2            3         1       3   \n",
       "3            4         1       1   \n",
       "4            5         0       3   \n",
       "5            6         0       3   \n",
       "6            7         0       1   \n",
       "7            8         0       3   \n",
       "8            9         1       3   \n",
       "9           10         1       2   \n",
       "\n",
       "                                                Name     Sex   Age  SibSp  \\\n",
       "0                            Braund, Mr. Owen Harris    male  22.0      1   \n",
       "1  Cumings, Mrs. John Bradley (Florence Briggs Th...  female  38.0      1   \n",
       "2                             Heikkinen, Miss. Laina  female  26.0      0   \n",
       "3       Futrelle, Mrs. Jacques Heath (Lily May Peel)  female  35.0      1   \n",
       "4                           Allen, Mr. William Henry    male  35.0      0   \n",
       "5                                   Moran, Mr. James    male   NaN      0   \n",
       "6                            McCarthy, Mr. Timothy J    male  54.0      0   \n",
       "7                     Palsson, Master. Gosta Leonard    male   2.0      3   \n",
       "8  Johnson, Mrs. Oscar W (Elisabeth Vilhelmina Berg)  female  27.0      0   \n",
       "9                Nasser, Mrs. Nicholas (Adele Achem)  female  14.0      1   \n",
       "\n",
       "   Parch            Ticket     Fare Cabin Embarked  \n",
       "0      0         A/5 21171   7.2500   NaN        S  \n",
       "1      0          PC 17599  71.2833   C85        C  \n",
       "2      0  STON/O2. 3101282   7.9250   NaN        S  \n",
       "3      0            113803  53.1000  C123        S  \n",
       "4      0            373450   8.0500   NaN        S  \n",
       "5      0            330877   8.4583   NaN        Q  \n",
       "6      0             17463  51.8625   E46        S  \n",
       "7      1            349909  21.0750   NaN        S  \n",
       "8      2            347742  11.1333   NaN        S  \n",
       "9      0            237736  30.0708   NaN        C  "
      ]
     },
     "execution_count": 8,
     "metadata": {},
     "output_type": "execute_result"
    }
   ],
   "source": [
    "# show the first few rows\n",
    "data.head(10)"
   ]
  },
  {
   "cell_type": "code",
   "execution_count": 9,
   "metadata": {},
   "outputs": [
    {
     "data": {
      "text/plain": [
       "PassengerId      0\n",
       "Survived         0\n",
       "Pclass           0\n",
       "Name             0\n",
       "Sex              0\n",
       "Age            177\n",
       "SibSp            0\n",
       "Parch            0\n",
       "Ticket           0\n",
       "Fare             0\n",
       "Cabin          687\n",
       "Embarked         2\n",
       "dtype: int64"
      ]
     },
     "execution_count": 9,
     "metadata": {},
     "output_type": "execute_result"
    }
   ],
   "source": [
    "# count the null values \n",
    "null_values = data.isnull().sum()\n",
    "null_values"
   ]
  },
  {
   "cell_type": "code",
   "execution_count": 10,
   "metadata": {},
   "outputs": [
    {
     "data": {
      "image/png": "[encoded data removed]",
      "text/plain": [
       "<Figure size 432x288 with 1 Axes>"
      ]
     },
     "metadata": {
      "needs_background": "light"
     },
     "output_type": "display_data"
    }
   ],
   "source": [
    "plt.plot(null_values)\n",
    "plt.show()"
   ]
  },
  {
   "cell_type": "markdown",
   "metadata": {},
   "source": [
    "## Data Processing"
   ]
  },
  {
   "cell_type": "code",
   "execution_count": 11,
   "metadata": {},
   "outputs": [],
   "source": [
    "def handle_non_numerical_data(df):\n",
    "    \n",
    "    columns = df.columns.values\n",
    "\n",
    "    for column in columns:\n",
    "        text_digit_vals = {}\n",
    "        def convert_to_int(val):\n",
    "            return text_digit_vals[val]\n",
    "\n",
    "        #print(column,df[column].dtype)\n",
    "        if df[column].dtype != np.int64 and df[column].dtype != np.float64:\n",
    "            \n",
    "            column_contents = df[column].values.tolist()\n",
    "            #finding just the uniques\n",
    "            unique_elements = set(column_contents)\n",
    "            # great, found them. \n",
    "            x = 0\n",
    "            for unique in unique_elements:\n",
    "                if unique not in text_digit_vals:\n",
    "                    text_digit_vals[unique] = x\n",
    "                    x+=1\n",
    "            df[column] = list(map(convert_to_int,df[column]))\n",
    "\n",
    "    return df\n"
   ]
  },
  {
   "cell_type": "code",
   "execution_count": 12,
   "metadata": {},
   "outputs": [
    {
     "name": "stderr",
     "output_type": "stream",
     "text": [
      "c:\\users\\had\\appdata\\local\\programs\\python\\python37-32\\lib\\site-packages\\ipykernel_launcher.py:22: SettingWithCopyWarning: \n",
      "A value is trying to be set on a copy of a slice from a DataFrame.\n",
      "Try using .loc[row_indexer,col_indexer] = value instead\n",
      "\n",
      "See the caveats in the documentation: http://pandas.pydata.org/pandas-docs/stable/user_guide/indexing.html#returning-a-view-versus-a-copy\n"
     ]
    },
    {
     "data": {
      "text/html": [
       "<div>\n",
       "<style scoped>\n",
       "    .dataframe tbody tr th:only-of-type {\n",
       "        vertical-align: middle;\n",
       "    }\n",
       "\n",
       "    .dataframe tbody tr th {\n",
       "        vertical-align: top;\n",
       "    }\n",
       "\n",
       "    .dataframe thead th {\n",
       "        text-align: right;\n",
       "    }\n",
       "</style>\n",
       "<table border=\"1\" class=\"dataframe\">\n",
       "  <thead>\n",
       "    <tr style=\"text-align: right;\">\n",
       "      <th></th>\n",
       "      <th>Pclass</th>\n",
       "      <th>Age</th>\n",
       "      <th>Sex</th>\n",
       "      <th>SibSp</th>\n",
       "      <th>Parch</th>\n",
       "      <th>Fare</th>\n",
       "      <th>Embarked</th>\n",
       "      <th>Ticket</th>\n",
       "    </tr>\n",
       "  </thead>\n",
       "  <tbody>\n",
       "    <tr>\n",
       "      <td>0</td>\n",
       "      <td>3</td>\n",
       "      <td>22.0</td>\n",
       "      <td>0</td>\n",
       "      <td>1</td>\n",
       "      <td>0</td>\n",
       "      <td>7.2500</td>\n",
       "      <td>3</td>\n",
       "      <td>8</td>\n",
       "    </tr>\n",
       "    <tr>\n",
       "      <td>1</td>\n",
       "      <td>1</td>\n",
       "      <td>38.0</td>\n",
       "      <td>1</td>\n",
       "      <td>1</td>\n",
       "      <td>0</td>\n",
       "      <td>71.2833</td>\n",
       "      <td>2</td>\n",
       "      <td>620</td>\n",
       "    </tr>\n",
       "    <tr>\n",
       "      <td>2</td>\n",
       "      <td>3</td>\n",
       "      <td>26.0</td>\n",
       "      <td>1</td>\n",
       "      <td>0</td>\n",
       "      <td>0</td>\n",
       "      <td>7.9250</td>\n",
       "      <td>3</td>\n",
       "      <td>491</td>\n",
       "    </tr>\n",
       "    <tr>\n",
       "      <td>3</td>\n",
       "      <td>1</td>\n",
       "      <td>35.0</td>\n",
       "      <td>1</td>\n",
       "      <td>1</td>\n",
       "      <td>0</td>\n",
       "      <td>53.1000</td>\n",
       "      <td>3</td>\n",
       "      <td>82</td>\n",
       "    </tr>\n",
       "    <tr>\n",
       "      <td>4</td>\n",
       "      <td>3</td>\n",
       "      <td>35.0</td>\n",
       "      <td>0</td>\n",
       "      <td>0</td>\n",
       "      <td>0</td>\n",
       "      <td>8.0500</td>\n",
       "      <td>3</td>\n",
       "      <td>486</td>\n",
       "    </tr>\n",
       "  </tbody>\n",
       "</table>\n",
       "</div>"
      ],
      "text/plain": [
       "   Pclass   Age  Sex  SibSp  Parch     Fare  Embarked  Ticket\n",
       "0       3  22.0    0      1      0   7.2500         3       8\n",
       "1       1  38.0    1      1      0  71.2833         2     620\n",
       "2       3  26.0    1      0      0   7.9250         3     491\n",
       "3       1  35.0    1      1      0  53.1000         3      82\n",
       "4       3  35.0    0      0      0   8.0500         3     486"
      ]
     },
     "execution_count": 12,
     "metadata": {},
     "output_type": "execute_result"
    }
   ],
   "source": [
    "y_target = data['Survived']\n",
    "# Y_target.reshape(len(Y_target),1)\n",
    "x_train = data[['Pclass', 'Age', 'Sex', 'SibSp', 'Parch', 'Fare','Embarked', 'Ticket']]\n",
    "\n",
    "x_train = handle_non_numerical_data(x_train)\n",
    "x_train.head()\n"
   ]
  },
  {
   "cell_type": "code",
   "execution_count": 13,
   "metadata": {},
   "outputs": [
    {
     "name": "stderr",
     "output_type": "stream",
     "text": [
      "c:\\users\\had\\appdata\\local\\programs\\python\\python37-32\\lib\\site-packages\\ipykernel_launcher.py:5: SettingWithCopyWarning: \n",
      "A value is trying to be set on a copy of a slice from a DataFrame.\n",
      "Try using .loc[row_indexer,col_indexer] = value instead\n",
      "\n",
      "See the caveats in the documentation: http://pandas.pydata.org/pandas-docs/stable/user_guide/indexing.html#returning-a-view-versus-a-copy\n",
      "  \"\"\"\n"
     ]
    },
    {
     "data": {
      "text/html": [
       "<div>\n",
       "<style scoped>\n",
       "    .dataframe tbody tr th:only-of-type {\n",
       "        vertical-align: middle;\n",
       "    }\n",
       "\n",
       "    .dataframe tbody tr th {\n",
       "        vertical-align: top;\n",
       "    }\n",
       "\n",
       "    .dataframe thead th {\n",
       "        text-align: right;\n",
       "    }\n",
       "</style>\n",
       "<table border=\"1\" class=\"dataframe\">\n",
       "  <thead>\n",
       "    <tr style=\"text-align: right;\">\n",
       "      <th></th>\n",
       "      <th>Pclass</th>\n",
       "      <th>Age</th>\n",
       "      <th>Sex</th>\n",
       "      <th>SibSp</th>\n",
       "      <th>Parch</th>\n",
       "      <th>Fare</th>\n",
       "      <th>Embarked</th>\n",
       "      <th>Ticket</th>\n",
       "    </tr>\n",
       "  </thead>\n",
       "  <tbody>\n",
       "    <tr>\n",
       "      <td>0</td>\n",
       "      <td>3</td>\n",
       "      <td>22.0</td>\n",
       "      <td>0</td>\n",
       "      <td>1</td>\n",
       "      <td>0</td>\n",
       "      <td>0.014151</td>\n",
       "      <td>3</td>\n",
       "      <td>8</td>\n",
       "    </tr>\n",
       "    <tr>\n",
       "      <td>1</td>\n",
       "      <td>1</td>\n",
       "      <td>38.0</td>\n",
       "      <td>1</td>\n",
       "      <td>1</td>\n",
       "      <td>0</td>\n",
       "      <td>0.139136</td>\n",
       "      <td>2</td>\n",
       "      <td>620</td>\n",
       "    </tr>\n",
       "    <tr>\n",
       "      <td>2</td>\n",
       "      <td>3</td>\n",
       "      <td>26.0</td>\n",
       "      <td>1</td>\n",
       "      <td>0</td>\n",
       "      <td>0</td>\n",
       "      <td>0.015469</td>\n",
       "      <td>3</td>\n",
       "      <td>491</td>\n",
       "    </tr>\n",
       "    <tr>\n",
       "      <td>3</td>\n",
       "      <td>1</td>\n",
       "      <td>35.0</td>\n",
       "      <td>1</td>\n",
       "      <td>1</td>\n",
       "      <td>0</td>\n",
       "      <td>0.103644</td>\n",
       "      <td>3</td>\n",
       "      <td>82</td>\n",
       "    </tr>\n",
       "    <tr>\n",
       "      <td>4</td>\n",
       "      <td>3</td>\n",
       "      <td>35.0</td>\n",
       "      <td>0</td>\n",
       "      <td>0</td>\n",
       "      <td>0</td>\n",
       "      <td>0.015713</td>\n",
       "      <td>3</td>\n",
       "      <td>486</td>\n",
       "    </tr>\n",
       "    <tr>\n",
       "      <td>...</td>\n",
       "      <td>...</td>\n",
       "      <td>...</td>\n",
       "      <td>...</td>\n",
       "      <td>...</td>\n",
       "      <td>...</td>\n",
       "      <td>...</td>\n",
       "      <td>...</td>\n",
       "      <td>...</td>\n",
       "    </tr>\n",
       "    <tr>\n",
       "      <td>886</td>\n",
       "      <td>2</td>\n",
       "      <td>27.0</td>\n",
       "      <td>0</td>\n",
       "      <td>0</td>\n",
       "      <td>0</td>\n",
       "      <td>0.025374</td>\n",
       "      <td>3</td>\n",
       "      <td>46</td>\n",
       "    </tr>\n",
       "    <tr>\n",
       "      <td>887</td>\n",
       "      <td>1</td>\n",
       "      <td>19.0</td>\n",
       "      <td>1</td>\n",
       "      <td>0</td>\n",
       "      <td>0</td>\n",
       "      <td>0.058556</td>\n",
       "      <td>3</td>\n",
       "      <td>244</td>\n",
       "    </tr>\n",
       "    <tr>\n",
       "      <td>888</td>\n",
       "      <td>3</td>\n",
       "      <td>NaN</td>\n",
       "      <td>1</td>\n",
       "      <td>1</td>\n",
       "      <td>2</td>\n",
       "      <td>0.045771</td>\n",
       "      <td>3</td>\n",
       "      <td>179</td>\n",
       "    </tr>\n",
       "    <tr>\n",
       "      <td>889</td>\n",
       "      <td>1</td>\n",
       "      <td>26.0</td>\n",
       "      <td>0</td>\n",
       "      <td>0</td>\n",
       "      <td>0</td>\n",
       "      <td>0.058556</td>\n",
       "      <td>2</td>\n",
       "      <td>551</td>\n",
       "    </tr>\n",
       "    <tr>\n",
       "      <td>890</td>\n",
       "      <td>3</td>\n",
       "      <td>32.0</td>\n",
       "      <td>0</td>\n",
       "      <td>0</td>\n",
       "      <td>0</td>\n",
       "      <td>0.015127</td>\n",
       "      <td>1</td>\n",
       "      <td>592</td>\n",
       "    </tr>\n",
       "  </tbody>\n",
       "</table>\n",
       "<p>891 rows × 8 columns</p>\n",
       "</div>"
      ],
      "text/plain": [
       "     Pclass   Age  Sex  SibSp  Parch      Fare  Embarked  Ticket\n",
       "0         3  22.0    0      1      0  0.014151         3       8\n",
       "1         1  38.0    1      1      0  0.139136         2     620\n",
       "2         3  26.0    1      0      0  0.015469         3     491\n",
       "3         1  35.0    1      1      0  0.103644         3      82\n",
       "4         3  35.0    0      0      0  0.015713         3     486\n",
       "..      ...   ...  ...    ...    ...       ...       ...     ...\n",
       "886       2  27.0    0      0      0  0.025374         3      46\n",
       "887       1  19.0    1      0      0  0.058556         3     244\n",
       "888       3   NaN    1      1      2  0.045771         3     179\n",
       "889       1  26.0    0      0      0  0.058556         2     551\n",
       "890       3  32.0    0      0      0  0.015127         1     592\n",
       "\n",
       "[891 rows x 8 columns]"
      ]
     },
     "execution_count": 13,
     "metadata": {},
     "output_type": "execute_result"
    }
   ],
   "source": [
    "fare = pd.DataFrame(x_train['Fare'])\n",
    "# Normalizing\n",
    "min_max_scaler = preprocessing.MinMaxScaler()\n",
    "newfare = min_max_scaler.fit_transform(fare)\n",
    "x_train['Fare'] = newfare\n",
    "x_train"
   ]
  },
  {
   "cell_type": "code",
   "execution_count": 14,
   "metadata": {},
   "outputs": [
    {
     "data": {
      "text/plain": [
       "Pclass        0\n",
       "Age         177\n",
       "Sex           0\n",
       "SibSp         0\n",
       "Parch         0\n",
       "Fare          0\n",
       "Embarked      0\n",
       "Ticket        0\n",
       "dtype: int64"
      ]
     },
     "execution_count": 14,
     "metadata": {},
     "output_type": "execute_result"
    }
   ],
   "source": [
    "null_values = x_train.isnull().sum()\n",
    "null_values"
   ]
  },
  {
   "cell_type": "code",
   "execution_count": 15,
   "metadata": {},
   "outputs": [
    {
     "data": {
      "image/png": "[encoded data removed]",
      "text/plain": [
       "<Figure size 432x288 with 1 Axes>"
      ]
     },
     "metadata": {
      "needs_background": "light"
     },
     "output_type": "display_data"
    }
   ],
   "source": [
    "plt.plot(null_values)\n",
    "plt.show()"
   ]
  },
  {
   "cell_type": "code",
   "execution_count": 16,
   "metadata": {
    "scrolled": true
   },
   "outputs": [
    {
     "name": "stdout",
     "output_type": "stream",
     "text": [
      "Number of NULL values 0\n",
      "   Pclass   Age  Sex  SibSp  Parch      Fare  Embarked  Ticket\n",
      "0       3  22.0    0      1      0  0.014151         3       8\n",
      "1       1  38.0    1      1      0  0.139136         2     620\n",
      "2       3  26.0    1      0      0  0.015469         3     491\n"
     ]
    },
    {
     "name": "stderr",
     "output_type": "stream",
     "text": [
      "c:\\users\\had\\appdata\\local\\programs\\python\\python37-32\\lib\\site-packages\\ipykernel_launcher.py:2: SettingWithCopyWarning: \n",
      "A value is trying to be set on a copy of a slice from a DataFrame.\n",
      "Try using .loc[row_indexer,col_indexer] = value instead\n",
      "\n",
      "See the caveats in the documentation: http://pandas.pydata.org/pandas-docs/stable/user_guide/indexing.html#returning-a-view-versus-a-copy\n",
      "  \n"
     ]
    }
   ],
   "source": [
    "# Fill the NAN values with the median values in the datasets\n",
    "x_train['Age'] = x_train['Age'].fillna(x_train['Age'].mean())\n",
    "print(\"Number of NULL values\" , x_train['Age'].isnull().sum())\n",
    "print(x_train.head(3))"
   ]
  },
  {
   "cell_type": "code",
   "execution_count": 17,
   "metadata": {},
   "outputs": [
    {
     "name": "stderr",
     "output_type": "stream",
     "text": [
      "c:\\users\\had\\appdata\\local\\programs\\python\\python37-32\\lib\\site-packages\\ipykernel_launcher.py:1: SettingWithCopyWarning: \n",
      "A value is trying to be set on a copy of a slice from a DataFrame.\n",
      "Try using .loc[row_indexer,col_indexer] = value instead\n",
      "\n",
      "See the caveats in the documentation: http://pandas.pydata.org/pandas-docs/stable/user_guide/indexing.html#returning-a-view-versus-a-copy\n",
      "  \"\"\"Entry point for launching an IPython kernel.\n",
      "c:\\users\\had\\appdata\\local\\programs\\python\\python37-32\\lib\\site-packages\\ipykernel_launcher.py:2: SettingWithCopyWarning: \n",
      "A value is trying to be set on a copy of a slice from a DataFrame.\n",
      "Try using .loc[row_indexer,col_indexer] = value instead\n",
      "\n",
      "See the caveats in the documentation: http://pandas.pydata.org/pandas-docs/stable/user_guide/indexing.html#returning-a-view-versus-a-copy\n",
      "  \n"
     ]
    },
    {
     "data": {
      "text/html": [
       "<style  type=\"text/css\" >\n",
       "    #T_9e7e8b82_05ea_11ea_badd_f01faf54d719row0_col0 {\n",
       "            background-color:  #023858;\n",
       "            color:  #f1f1f1;\n",
       "        }    #T_9e7e8b82_05ea_11ea_badd_f01faf54d719row0_col1 {\n",
       "            background-color:  #fff7fb;\n",
       "            color:  #000000;\n",
       "        }    #T_9e7e8b82_05ea_11ea_badd_f01faf54d719row0_col2 {\n",
       "            background-color:  #fff7fb;\n",
       "            color:  #000000;\n",
       "        }    #T_9e7e8b82_05ea_11ea_badd_f01faf54d719row0_col3 {\n",
       "            background-color:  #ced0e6;\n",
       "            color:  #000000;\n",
       "        }    #T_9e7e8b82_05ea_11ea_badd_f01faf54d719row0_col4 {\n",
       "            background-color:  #e3e0ee;\n",
       "            color:  #000000;\n",
       "        }    #T_9e7e8b82_05ea_11ea_badd_f01faf54d719row0_col5 {\n",
       "            background-color:  #fff7fb;\n",
       "            color:  #000000;\n",
       "        }    #T_9e7e8b82_05ea_11ea_badd_f01faf54d719row0_col6 {\n",
       "            background-color:  #f2ecf5;\n",
       "            color:  #000000;\n",
       "        }    #T_9e7e8b82_05ea_11ea_badd_f01faf54d719row0_col7 {\n",
       "            background-color:  #f9f2f8;\n",
       "            color:  #000000;\n",
       "        }    #T_9e7e8b82_05ea_11ea_badd_f01faf54d719row1_col0 {\n",
       "            background-color:  #e8e4f0;\n",
       "            color:  #000000;\n",
       "        }    #T_9e7e8b82_05ea_11ea_badd_f01faf54d719row1_col1 {\n",
       "            background-color:  #023858;\n",
       "            color:  #f1f1f1;\n",
       "        }    #T_9e7e8b82_05ea_11ea_badd_f01faf54d719row1_col2 {\n",
       "            background-color:  #f9f2f8;\n",
       "            color:  #000000;\n",
       "        }    #T_9e7e8b82_05ea_11ea_badd_f01faf54d719row1_col3 {\n",
       "            background-color:  #fff7fb;\n",
       "            color:  #000000;\n",
       "        }    #T_9e7e8b82_05ea_11ea_badd_f01faf54d719row1_col4 {\n",
       "            background-color:  #fff7fb;\n",
       "            color:  #000000;\n",
       "        }    #T_9e7e8b82_05ea_11ea_badd_f01faf54d719row1_col5 {\n",
       "            background-color:  #97b7d7;\n",
       "            color:  #000000;\n",
       "        }    #T_9e7e8b82_05ea_11ea_badd_f01faf54d719row1_col6 {\n",
       "            background-color:  #f1ebf5;\n",
       "            color:  #000000;\n",
       "        }    #T_9e7e8b82_05ea_11ea_badd_f01faf54d719row1_col7 {\n",
       "            background-color:  #f5eff6;\n",
       "            color:  #000000;\n",
       "        }    #T_9e7e8b82_05ea_11ea_badd_f01faf54d719row2_col0 {\n",
       "            background-color:  #cacee5;\n",
       "            color:  #000000;\n",
       "        }    #T_9e7e8b82_05ea_11ea_badd_f01faf54d719row2_col1 {\n",
       "            background-color:  #dfddec;\n",
       "            color:  #000000;\n",
       "        }    #T_9e7e8b82_05ea_11ea_badd_f01faf54d719row2_col2 {\n",
       "            background-color:  #023858;\n",
       "            color:  #f1f1f1;\n",
       "        }    #T_9e7e8b82_05ea_11ea_badd_f01faf54d719row2_col3 {\n",
       "            background-color:  #c5cce3;\n",
       "            color:  #000000;\n",
       "        }    #T_9e7e8b82_05ea_11ea_badd_f01faf54d719row2_col4 {\n",
       "            background-color:  #abbfdc;\n",
       "            color:  #000000;\n",
       "        }    #T_9e7e8b82_05ea_11ea_badd_f01faf54d719row2_col5 {\n",
       "            background-color:  #80aed2;\n",
       "            color:  #000000;\n",
       "        }    #T_9e7e8b82_05ea_11ea_badd_f01faf54d719row2_col6 {\n",
       "            background-color:  #fff7fb;\n",
       "            color:  #000000;\n",
       "        }    #T_9e7e8b82_05ea_11ea_badd_f01faf54d719row2_col7 {\n",
       "            background-color:  #fef6fa;\n",
       "            color:  #000000;\n",
       "        }    #T_9e7e8b82_05ea_11ea_badd_f01faf54d719row3_col0 {\n",
       "            background-color:  #99b8d8;\n",
       "            color:  #000000;\n",
       "        }    #T_9e7e8b82_05ea_11ea_badd_f01faf54d719row3_col1 {\n",
       "            background-color:  #f4eef6;\n",
       "            color:  #000000;\n",
       "        }    #T_9e7e8b82_05ea_11ea_badd_f01faf54d719row3_col2 {\n",
       "            background-color:  #d8d7e9;\n",
       "            color:  #000000;\n",
       "        }    #T_9e7e8b82_05ea_11ea_badd_f01faf54d719row3_col3 {\n",
       "            background-color:  #023858;\n",
       "            color:  #f1f1f1;\n",
       "        }    #T_9e7e8b82_05ea_11ea_badd_f01faf54d719row3_col4 {\n",
       "            background-color:  #73a9cf;\n",
       "            color:  #000000;\n",
       "        }    #T_9e7e8b82_05ea_11ea_badd_f01faf54d719row3_col5 {\n",
       "            background-color:  #84b0d3;\n",
       "            color:  #000000;\n",
       "        }    #T_9e7e8b82_05ea_11ea_badd_f01faf54d719row3_col6 {\n",
       "            background-color:  #e2dfee;\n",
       "            color:  #000000;\n",
       "        }    #T_9e7e8b82_05ea_11ea_badd_f01faf54d719row3_col7 {\n",
       "            background-color:  #f5eff6;\n",
       "            color:  #000000;\n",
       "        }    #T_9e7e8b82_05ea_11ea_badd_f01faf54d719row4_col0 {\n",
       "            background-color:  #a9bfdc;\n",
       "            color:  #000000;\n",
       "        }    #T_9e7e8b82_05ea_11ea_badd_f01faf54d719row4_col1 {\n",
       "            background-color:  #eee8f3;\n",
       "            color:  #000000;\n",
       "        }    #T_9e7e8b82_05ea_11ea_badd_f01faf54d719row4_col2 {\n",
       "            background-color:  #b4c4df;\n",
       "            color:  #000000;\n",
       "        }    #T_9e7e8b82_05ea_11ea_badd_f01faf54d719row4_col3 {\n",
       "            background-color:  #67a4cc;\n",
       "            color:  #000000;\n",
       "        }    #T_9e7e8b82_05ea_11ea_badd_f01faf54d719row4_col4 {\n",
       "            background-color:  #023858;\n",
       "            color:  #f1f1f1;\n",
       "        }    #T_9e7e8b82_05ea_11ea_badd_f01faf54d719row4_col5 {\n",
       "            background-color:  #76aad0;\n",
       "            color:  #000000;\n",
       "        }    #T_9e7e8b82_05ea_11ea_badd_f01faf54d719row4_col6 {\n",
       "            background-color:  #dfddec;\n",
       "            color:  #000000;\n",
       "        }    #T_9e7e8b82_05ea_11ea_badd_f01faf54d719row4_col7 {\n",
       "            background-color:  #fbf4f9;\n",
       "            color:  #000000;\n",
       "        }    #T_9e7e8b82_05ea_11ea_badd_f01faf54d719row5_col0 {\n",
       "            background-color:  #fff7fb;\n",
       "            color:  #000000;\n",
       "        }    #T_9e7e8b82_05ea_11ea_badd_f01faf54d719row5_col1 {\n",
       "            background-color:  #b9c6e0;\n",
       "            color:  #000000;\n",
       "        }    #T_9e7e8b82_05ea_11ea_badd_f01faf54d719row5_col2 {\n",
       "            background-color:  #c6cce3;\n",
       "            color:  #000000;\n",
       "        }    #T_9e7e8b82_05ea_11ea_badd_f01faf54d719row5_col3 {\n",
       "            background-color:  #b9c6e0;\n",
       "            color:  #000000;\n",
       "        }    #T_9e7e8b82_05ea_11ea_badd_f01faf54d719row5_col4 {\n",
       "            background-color:  #b4c4df;\n",
       "            color:  #000000;\n",
       "        }    #T_9e7e8b82_05ea_11ea_badd_f01faf54d719row5_col5 {\n",
       "            background-color:  #023858;\n",
       "            color:  #f1f1f1;\n",
       "        }    #T_9e7e8b82_05ea_11ea_badd_f01faf54d719row5_col6 {\n",
       "            background-color:  #f7f0f7;\n",
       "            color:  #000000;\n",
       "        }    #T_9e7e8b82_05ea_11ea_badd_f01faf54d719row5_col7 {\n",
       "            background-color:  #fff7fb;\n",
       "            color:  #000000;\n",
       "        }    #T_9e7e8b82_05ea_11ea_badd_f01faf54d719row6_col0 {\n",
       "            background-color:  #b3c3de;\n",
       "            color:  #000000;\n",
       "        }    #T_9e7e8b82_05ea_11ea_badd_f01faf54d719row6_col1 {\n",
       "            background-color:  #d4d4e8;\n",
       "            color:  #000000;\n",
       "        }    #T_9e7e8b82_05ea_11ea_badd_f01faf54d719row6_col2 {\n",
       "            background-color:  #fff7fb;\n",
       "            color:  #000000;\n",
       "        }    #T_9e7e8b82_05ea_11ea_badd_f01faf54d719row6_col3 {\n",
       "            background-color:  #d2d3e7;\n",
       "            color:  #000000;\n",
       "        }    #T_9e7e8b82_05ea_11ea_badd_f01faf54d719row6_col4 {\n",
       "            background-color:  #d7d6e9;\n",
       "            color:  #000000;\n",
       "        }    #T_9e7e8b82_05ea_11ea_badd_f01faf54d719row6_col5 {\n",
       "            background-color:  #bcc7e1;\n",
       "            color:  #000000;\n",
       "        }    #T_9e7e8b82_05ea_11ea_badd_f01faf54d719row6_col6 {\n",
       "            background-color:  #023858;\n",
       "            color:  #f1f1f1;\n",
       "        }    #T_9e7e8b82_05ea_11ea_badd_f01faf54d719row6_col7 {\n",
       "            background-color:  #f1ebf5;\n",
       "            color:  #000000;\n",
       "        }    #T_9e7e8b82_05ea_11ea_badd_f01faf54d719row7_col0 {\n",
       "            background-color:  #adc1dd;\n",
       "            color:  #000000;\n",
       "        }    #T_9e7e8b82_05ea_11ea_badd_f01faf54d719row7_col1 {\n",
       "            background-color:  #c9cee4;\n",
       "            color:  #000000;\n",
       "        }    #T_9e7e8b82_05ea_11ea_badd_f01faf54d719row7_col2 {\n",
       "            background-color:  #f1ebf5;\n",
       "            color:  #000000;\n",
       "        }    #T_9e7e8b82_05ea_11ea_badd_f01faf54d719row7_col3 {\n",
       "            background-color:  #d9d8ea;\n",
       "            color:  #000000;\n",
       "        }    #T_9e7e8b82_05ea_11ea_badd_f01faf54d719row7_col4 {\n",
       "            background-color:  #e8e4f0;\n",
       "            color:  #000000;\n",
       "        }    #T_9e7e8b82_05ea_11ea_badd_f01faf54d719row7_col5 {\n",
       "            background-color:  #b5c4df;\n",
       "            color:  #000000;\n",
       "        }    #T_9e7e8b82_05ea_11ea_badd_f01faf54d719row7_col6 {\n",
       "            background-color:  #e4e1ef;\n",
       "            color:  #000000;\n",
       "        }    #T_9e7e8b82_05ea_11ea_badd_f01faf54d719row7_col7 {\n",
       "            background-color:  #023858;\n",
       "            color:  #f1f1f1;\n",
       "        }</style><table id=\"T_9e7e8b82_05ea_11ea_badd_f01faf54d719\" ><thead>    <tr>        <th class=\"blank level0\" ></th>        <th class=\"col_heading level0 col0\" >Pclass</th>        <th class=\"col_heading level0 col1\" >Age</th>        <th class=\"col_heading level0 col2\" >Sex</th>        <th class=\"col_heading level0 col3\" >SibSp</th>        <th class=\"col_heading level0 col4\" >Parch</th>        <th class=\"col_heading level0 col5\" >Fare</th>        <th class=\"col_heading level0 col6\" >Embarked</th>        <th class=\"col_heading level0 col7\" >Ticket</th>    </tr></thead><tbody>\n",
       "                <tr>\n",
       "                        <th id=\"T_9e7e8b82_05ea_11ea_badd_f01faf54d719level0_row0\" class=\"row_heading level0 row0\" >Pclass</th>\n",
       "                        <td id=\"T_9e7e8b82_05ea_11ea_badd_f01faf54d719row0_col0\" class=\"data row0 col0\" >1</td>\n",
       "                        <td id=\"T_9e7e8b82_05ea_11ea_badd_f01faf54d719row0_col1\" class=\"data row0 col1\" >-0.331339</td>\n",
       "                        <td id=\"T_9e7e8b82_05ea_11ea_badd_f01faf54d719row0_col2\" class=\"data row0 col2\" >-0.1319</td>\n",
       "                        <td id=\"T_9e7e8b82_05ea_11ea_badd_f01faf54d719row0_col3\" class=\"data row0 col3\" >0.0830814</td>\n",
       "                        <td id=\"T_9e7e8b82_05ea_11ea_badd_f01faf54d719row0_col4\" class=\"data row0 col4\" >0.0184427</td>\n",
       "                        <td id=\"T_9e7e8b82_05ea_11ea_badd_f01faf54d719row0_col5\" class=\"data row0 col5\" >-0.5495</td>\n",
       "                        <td id=\"T_9e7e8b82_05ea_11ea_badd_f01faf54d719row0_col6\" class=\"data row0 col6\" >-0.028566</td>\n",
       "                        <td id=\"T_9e7e8b82_05ea_11ea_badd_f01faf54d719row0_col7\" class=\"data row0 col7\" >0.00014758</td>\n",
       "            </tr>\n",
       "            <tr>\n",
       "                        <th id=\"T_9e7e8b82_05ea_11ea_badd_f01faf54d719level0_row1\" class=\"row_heading level0 row1\" >Age</th>\n",
       "                        <td id=\"T_9e7e8b82_05ea_11ea_badd_f01faf54d719row1_col0\" class=\"data row1 col0\" >-0.331339</td>\n",
       "                        <td id=\"T_9e7e8b82_05ea_11ea_badd_f01faf54d719row1_col1\" class=\"data row1 col1\" >1</td>\n",
       "                        <td id=\"T_9e7e8b82_05ea_11ea_badd_f01faf54d719row1_col2\" class=\"data row1 col2\" >-0.0841534</td>\n",
       "                        <td id=\"T_9e7e8b82_05ea_11ea_badd_f01faf54d719row1_col3\" class=\"data row1 col3\" >-0.232625</td>\n",
       "                        <td id=\"T_9e7e8b82_05ea_11ea_badd_f01faf54d719row1_col4\" class=\"data row1 col4\" >-0.179191</td>\n",
       "                        <td id=\"T_9e7e8b82_05ea_11ea_badd_f01faf54d719row1_col5\" class=\"data row1 col5\" >0.0915661</td>\n",
       "                        <td id=\"T_9e7e8b82_05ea_11ea_badd_f01faf54d719row1_col6\" class=\"data row1 col6\" >-0.0235777</td>\n",
       "                        <td id=\"T_9e7e8b82_05ea_11ea_badd_f01faf54d719row1_col7\" class=\"data row1 col7\" >0.0282072</td>\n",
       "            </tr>\n",
       "            <tr>\n",
       "                        <th id=\"T_9e7e8b82_05ea_11ea_badd_f01faf54d719level0_row2\" class=\"row_heading level0 row2\" >Sex</th>\n",
       "                        <td id=\"T_9e7e8b82_05ea_11ea_badd_f01faf54d719row2_col0\" class=\"data row2 col0\" >-0.1319</td>\n",
       "                        <td id=\"T_9e7e8b82_05ea_11ea_badd_f01faf54d719row2_col1\" class=\"data row2 col1\" >-0.0841534</td>\n",
       "                        <td id=\"T_9e7e8b82_05ea_11ea_badd_f01faf54d719row2_col2\" class=\"data row2 col2\" >1</td>\n",
       "                        <td id=\"T_9e7e8b82_05ea_11ea_badd_f01faf54d719row2_col3\" class=\"data row2 col3\" >0.114631</td>\n",
       "                        <td id=\"T_9e7e8b82_05ea_11ea_badd_f01faf54d719row2_col4\" class=\"data row2 col4\" >0.245489</td>\n",
       "                        <td id=\"T_9e7e8b82_05ea_11ea_badd_f01faf54d719row2_col5\" class=\"data row2 col5\" >0.182333</td>\n",
       "                        <td id=\"T_9e7e8b82_05ea_11ea_badd_f01faf54d719row2_col6\" class=\"data row2 col6\" >-0.128526</td>\n",
       "                        <td id=\"T_9e7e8b82_05ea_11ea_badd_f01faf54d719row2_col7\" class=\"data row2 col7\" >-0.0294155</td>\n",
       "            </tr>\n",
       "            <tr>\n",
       "                        <th id=\"T_9e7e8b82_05ea_11ea_badd_f01faf54d719level0_row3\" class=\"row_heading level0 row3\" >SibSp</th>\n",
       "                        <td id=\"T_9e7e8b82_05ea_11ea_badd_f01faf54d719row3_col0\" class=\"data row3 col0\" >0.0830814</td>\n",
       "                        <td id=\"T_9e7e8b82_05ea_11ea_badd_f01faf54d719row3_col1\" class=\"data row3 col1\" >-0.232625</td>\n",
       "                        <td id=\"T_9e7e8b82_05ea_11ea_badd_f01faf54d719row3_col2\" class=\"data row3 col2\" >0.114631</td>\n",
       "                        <td id=\"T_9e7e8b82_05ea_11ea_badd_f01faf54d719row3_col3\" class=\"data row3 col3\" >1</td>\n",
       "                        <td id=\"T_9e7e8b82_05ea_11ea_badd_f01faf54d719row3_col4\" class=\"data row3 col4\" >0.414838</td>\n",
       "                        <td id=\"T_9e7e8b82_05ea_11ea_badd_f01faf54d719row3_col5\" class=\"data row3 col5\" >0.159651</td>\n",
       "                        <td id=\"T_9e7e8b82_05ea_11ea_badd_f01faf54d719row3_col6\" class=\"data row3 col6\" >0.0637943</td>\n",
       "                        <td id=\"T_9e7e8b82_05ea_11ea_badd_f01faf54d719row3_col7\" class=\"data row3 col7\" >0.0281065</td>\n",
       "            </tr>\n",
       "            <tr>\n",
       "                        <th id=\"T_9e7e8b82_05ea_11ea_badd_f01faf54d719level0_row4\" class=\"row_heading level0 row4\" >Parch</th>\n",
       "                        <td id=\"T_9e7e8b82_05ea_11ea_badd_f01faf54d719row4_col0\" class=\"data row4 col0\" >0.0184427</td>\n",
       "                        <td id=\"T_9e7e8b82_05ea_11ea_badd_f01faf54d719row4_col1\" class=\"data row4 col1\" >-0.179191</td>\n",
       "                        <td id=\"T_9e7e8b82_05ea_11ea_badd_f01faf54d719row4_col2\" class=\"data row4 col2\" >0.245489</td>\n",
       "                        <td id=\"T_9e7e8b82_05ea_11ea_badd_f01faf54d719row4_col3\" class=\"data row4 col3\" >0.414838</td>\n",
       "                        <td id=\"T_9e7e8b82_05ea_11ea_badd_f01faf54d719row4_col4\" class=\"data row4 col4\" >1</td>\n",
       "                        <td id=\"T_9e7e8b82_05ea_11ea_badd_f01faf54d719row4_col5\" class=\"data row4 col5\" >0.216225</td>\n",
       "                        <td id=\"T_9e7e8b82_05ea_11ea_badd_f01faf54d719row4_col6\" class=\"data row4 col6\" >0.082144</td>\n",
       "                        <td id=\"T_9e7e8b82_05ea_11ea_badd_f01faf54d719row4_col7\" class=\"data row4 col7\" >-0.0131508</td>\n",
       "            </tr>\n",
       "            <tr>\n",
       "                        <th id=\"T_9e7e8b82_05ea_11ea_badd_f01faf54d719level0_row5\" class=\"row_heading level0 row5\" >Fare</th>\n",
       "                        <td id=\"T_9e7e8b82_05ea_11ea_badd_f01faf54d719row5_col0\" class=\"data row5 col0\" >-0.5495</td>\n",
       "                        <td id=\"T_9e7e8b82_05ea_11ea_badd_f01faf54d719row5_col1\" class=\"data row5 col1\" >0.0915661</td>\n",
       "                        <td id=\"T_9e7e8b82_05ea_11ea_badd_f01faf54d719row5_col2\" class=\"data row5 col2\" >0.182333</td>\n",
       "                        <td id=\"T_9e7e8b82_05ea_11ea_badd_f01faf54d719row5_col3\" class=\"data row5 col3\" >0.159651</td>\n",
       "                        <td id=\"T_9e7e8b82_05ea_11ea_badd_f01faf54d719row5_col4\" class=\"data row5 col4\" >0.216225</td>\n",
       "                        <td id=\"T_9e7e8b82_05ea_11ea_badd_f01faf54d719row5_col5\" class=\"data row5 col5\" >1</td>\n",
       "                        <td id=\"T_9e7e8b82_05ea_11ea_badd_f01faf54d719row5_col6\" class=\"data row5 col6\" >-0.0710096</td>\n",
       "                        <td id=\"T_9e7e8b82_05ea_11ea_badd_f01faf54d719row5_col7\" class=\"data row5 col7\" >-0.0408308</td>\n",
       "            </tr>\n",
       "            <tr>\n",
       "                        <th id=\"T_9e7e8b82_05ea_11ea_badd_f01faf54d719level0_row6\" class=\"row_heading level0 row6\" >Embarked</th>\n",
       "                        <td id=\"T_9e7e8b82_05ea_11ea_badd_f01faf54d719row6_col0\" class=\"data row6 col0\" >-0.028566</td>\n",
       "                        <td id=\"T_9e7e8b82_05ea_11ea_badd_f01faf54d719row6_col1\" class=\"data row6 col1\" >-0.0235777</td>\n",
       "                        <td id=\"T_9e7e8b82_05ea_11ea_badd_f01faf54d719row6_col2\" class=\"data row6 col2\" >-0.128526</td>\n",
       "                        <td id=\"T_9e7e8b82_05ea_11ea_badd_f01faf54d719row6_col3\" class=\"data row6 col3\" >0.0637943</td>\n",
       "                        <td id=\"T_9e7e8b82_05ea_11ea_badd_f01faf54d719row6_col4\" class=\"data row6 col4\" >0.082144</td>\n",
       "                        <td id=\"T_9e7e8b82_05ea_11ea_badd_f01faf54d719row6_col5\" class=\"data row6 col5\" >-0.0710096</td>\n",
       "                        <td id=\"T_9e7e8b82_05ea_11ea_badd_f01faf54d719row6_col6\" class=\"data row6 col6\" >1</td>\n",
       "                        <td id=\"T_9e7e8b82_05ea_11ea_badd_f01faf54d719row6_col7\" class=\"data row6 col7\" >0.054459</td>\n",
       "            </tr>\n",
       "            <tr>\n",
       "                        <th id=\"T_9e7e8b82_05ea_11ea_badd_f01faf54d719level0_row7\" class=\"row_heading level0 row7\" >Ticket</th>\n",
       "                        <td id=\"T_9e7e8b82_05ea_11ea_badd_f01faf54d719row7_col0\" class=\"data row7 col0\" >0.00014758</td>\n",
       "                        <td id=\"T_9e7e8b82_05ea_11ea_badd_f01faf54d719row7_col1\" class=\"data row7 col1\" >0.0282072</td>\n",
       "                        <td id=\"T_9e7e8b82_05ea_11ea_badd_f01faf54d719row7_col2\" class=\"data row7 col2\" >-0.0294155</td>\n",
       "                        <td id=\"T_9e7e8b82_05ea_11ea_badd_f01faf54d719row7_col3\" class=\"data row7 col3\" >0.0281065</td>\n",
       "                        <td id=\"T_9e7e8b82_05ea_11ea_badd_f01faf54d719row7_col4\" class=\"data row7 col4\" >-0.0131508</td>\n",
       "                        <td id=\"T_9e7e8b82_05ea_11ea_badd_f01faf54d719row7_col5\" class=\"data row7 col5\" >-0.0408308</td>\n",
       "                        <td id=\"T_9e7e8b82_05ea_11ea_badd_f01faf54d719row7_col6\" class=\"data row7 col6\" >0.054459</td>\n",
       "                        <td id=\"T_9e7e8b82_05ea_11ea_badd_f01faf54d719row7_col7\" class=\"data row7 col7\" >1</td>\n",
       "            </tr>\n",
       "    </tbody></table>"
      ],
      "text/plain": [
       "<pandas.io.formats.style.Styler at 0x1327ed10>"
      ]
     },
     "execution_count": 17,
     "metadata": {},
     "output_type": "execute_result"
    }
   ],
   "source": [
    "x_train['Sex'] = x_train['Sex'].replace('male', 0)\n",
    "x_train['Sex'] = x_train['Sex'].replace('female', 1)\n",
    "# print(type(x_train))\n",
    "corr = x_train.corr()\n",
    "corr.style.background_gradient()"
   ]
  },
  {
   "cell_type": "code",
   "execution_count": 18,
   "metadata": {},
   "outputs": [
    {
     "data": {
      "text/html": [
       "<style  type=\"text/css\" >\n",
       "    #T_9e8eb442_05ea_11ea_a621_f01faf54d719row0_col0 {\n",
       "            background-color:  #023858;\n",
       "            color:  #f1f1f1;\n",
       "        }    #T_9e8eb442_05ea_11ea_a621_f01faf54d719row0_col1 {\n",
       "            background-color:  #fff7fb;\n",
       "            color:  #000000;\n",
       "        }    #T_9e8eb442_05ea_11ea_a621_f01faf54d719row0_col2 {\n",
       "            background-color:  #fff7fb;\n",
       "            color:  #000000;\n",
       "        }    #T_9e8eb442_05ea_11ea_a621_f01faf54d719row0_col3 {\n",
       "            background-color:  #ced0e6;\n",
       "            color:  #000000;\n",
       "        }    #T_9e8eb442_05ea_11ea_a621_f01faf54d719row0_col4 {\n",
       "            background-color:  #e3e0ee;\n",
       "            color:  #000000;\n",
       "        }    #T_9e8eb442_05ea_11ea_a621_f01faf54d719row0_col5 {\n",
       "            background-color:  #fff7fb;\n",
       "            color:  #000000;\n",
       "        }    #T_9e8eb442_05ea_11ea_a621_f01faf54d719row0_col6 {\n",
       "            background-color:  #f2ecf5;\n",
       "            color:  #000000;\n",
       "        }    #T_9e8eb442_05ea_11ea_a621_f01faf54d719row0_col7 {\n",
       "            background-color:  #f9f2f8;\n",
       "            color:  #000000;\n",
       "        }    #T_9e8eb442_05ea_11ea_a621_f01faf54d719row1_col0 {\n",
       "            background-color:  #e8e4f0;\n",
       "            color:  #000000;\n",
       "        }    #T_9e8eb442_05ea_11ea_a621_f01faf54d719row1_col1 {\n",
       "            background-color:  #023858;\n",
       "            color:  #f1f1f1;\n",
       "        }    #T_9e8eb442_05ea_11ea_a621_f01faf54d719row1_col2 {\n",
       "            background-color:  #f9f2f8;\n",
       "            color:  #000000;\n",
       "        }    #T_9e8eb442_05ea_11ea_a621_f01faf54d719row1_col3 {\n",
       "            background-color:  #fff7fb;\n",
       "            color:  #000000;\n",
       "        }    #T_9e8eb442_05ea_11ea_a621_f01faf54d719row1_col4 {\n",
       "            background-color:  #fff7fb;\n",
       "            color:  #000000;\n",
       "        }    #T_9e8eb442_05ea_11ea_a621_f01faf54d719row1_col5 {\n",
       "            background-color:  #97b7d7;\n",
       "            color:  #000000;\n",
       "        }    #T_9e8eb442_05ea_11ea_a621_f01faf54d719row1_col6 {\n",
       "            background-color:  #f1ebf5;\n",
       "            color:  #000000;\n",
       "        }    #T_9e8eb442_05ea_11ea_a621_f01faf54d719row1_col7 {\n",
       "            background-color:  #f5eff6;\n",
       "            color:  #000000;\n",
       "        }    #T_9e8eb442_05ea_11ea_a621_f01faf54d719row2_col0 {\n",
       "            background-color:  #cacee5;\n",
       "            color:  #000000;\n",
       "        }    #T_9e8eb442_05ea_11ea_a621_f01faf54d719row2_col1 {\n",
       "            background-color:  #dfddec;\n",
       "            color:  #000000;\n",
       "        }    #T_9e8eb442_05ea_11ea_a621_f01faf54d719row2_col2 {\n",
       "            background-color:  #023858;\n",
       "            color:  #f1f1f1;\n",
       "        }    #T_9e8eb442_05ea_11ea_a621_f01faf54d719row2_col3 {\n",
       "            background-color:  #c5cce3;\n",
       "            color:  #000000;\n",
       "        }    #T_9e8eb442_05ea_11ea_a621_f01faf54d719row2_col4 {\n",
       "            background-color:  #abbfdc;\n",
       "            color:  #000000;\n",
       "        }    #T_9e8eb442_05ea_11ea_a621_f01faf54d719row2_col5 {\n",
       "            background-color:  #80aed2;\n",
       "            color:  #000000;\n",
       "        }    #T_9e8eb442_05ea_11ea_a621_f01faf54d719row2_col6 {\n",
       "            background-color:  #fff7fb;\n",
       "            color:  #000000;\n",
       "        }    #T_9e8eb442_05ea_11ea_a621_f01faf54d719row2_col7 {\n",
       "            background-color:  #fef6fa;\n",
       "            color:  #000000;\n",
       "        }    #T_9e8eb442_05ea_11ea_a621_f01faf54d719row3_col0 {\n",
       "            background-color:  #99b8d8;\n",
       "            color:  #000000;\n",
       "        }    #T_9e8eb442_05ea_11ea_a621_f01faf54d719row3_col1 {\n",
       "            background-color:  #f4eef6;\n",
       "            color:  #000000;\n",
       "        }    #T_9e8eb442_05ea_11ea_a621_f01faf54d719row3_col2 {\n",
       "            background-color:  #d8d7e9;\n",
       "            color:  #000000;\n",
       "        }    #T_9e8eb442_05ea_11ea_a621_f01faf54d719row3_col3 {\n",
       "            background-color:  #023858;\n",
       "            color:  #f1f1f1;\n",
       "        }    #T_9e8eb442_05ea_11ea_a621_f01faf54d719row3_col4 {\n",
       "            background-color:  #73a9cf;\n",
       "            color:  #000000;\n",
       "        }    #T_9e8eb442_05ea_11ea_a621_f01faf54d719row3_col5 {\n",
       "            background-color:  #84b0d3;\n",
       "            color:  #000000;\n",
       "        }    #T_9e8eb442_05ea_11ea_a621_f01faf54d719row3_col6 {\n",
       "            background-color:  #e2dfee;\n",
       "            color:  #000000;\n",
       "        }    #T_9e8eb442_05ea_11ea_a621_f01faf54d719row3_col7 {\n",
       "            background-color:  #f5eff6;\n",
       "            color:  #000000;\n",
       "        }    #T_9e8eb442_05ea_11ea_a621_f01faf54d719row4_col0 {\n",
       "            background-color:  #a9bfdc;\n",
       "            color:  #000000;\n",
       "        }    #T_9e8eb442_05ea_11ea_a621_f01faf54d719row4_col1 {\n",
       "            background-color:  #eee8f3;\n",
       "            color:  #000000;\n",
       "        }    #T_9e8eb442_05ea_11ea_a621_f01faf54d719row4_col2 {\n",
       "            background-color:  #b4c4df;\n",
       "            color:  #000000;\n",
       "        }    #T_9e8eb442_05ea_11ea_a621_f01faf54d719row4_col3 {\n",
       "            background-color:  #67a4cc;\n",
       "            color:  #000000;\n",
       "        }    #T_9e8eb442_05ea_11ea_a621_f01faf54d719row4_col4 {\n",
       "            background-color:  #023858;\n",
       "            color:  #f1f1f1;\n",
       "        }    #T_9e8eb442_05ea_11ea_a621_f01faf54d719row4_col5 {\n",
       "            background-color:  #76aad0;\n",
       "            color:  #000000;\n",
       "        }    #T_9e8eb442_05ea_11ea_a621_f01faf54d719row4_col6 {\n",
       "            background-color:  #dfddec;\n",
       "            color:  #000000;\n",
       "        }    #T_9e8eb442_05ea_11ea_a621_f01faf54d719row4_col7 {\n",
       "            background-color:  #fbf4f9;\n",
       "            color:  #000000;\n",
       "        }    #T_9e8eb442_05ea_11ea_a621_f01faf54d719row5_col0 {\n",
       "            background-color:  #fff7fb;\n",
       "            color:  #000000;\n",
       "        }    #T_9e8eb442_05ea_11ea_a621_f01faf54d719row5_col1 {\n",
       "            background-color:  #b9c6e0;\n",
       "            color:  #000000;\n",
       "        }    #T_9e8eb442_05ea_11ea_a621_f01faf54d719row5_col2 {\n",
       "            background-color:  #c6cce3;\n",
       "            color:  #000000;\n",
       "        }    #T_9e8eb442_05ea_11ea_a621_f01faf54d719row5_col3 {\n",
       "            background-color:  #b9c6e0;\n",
       "            color:  #000000;\n",
       "        }    #T_9e8eb442_05ea_11ea_a621_f01faf54d719row5_col4 {\n",
       "            background-color:  #b4c4df;\n",
       "            color:  #000000;\n",
       "        }    #T_9e8eb442_05ea_11ea_a621_f01faf54d719row5_col5 {\n",
       "            background-color:  #023858;\n",
       "            color:  #f1f1f1;\n",
       "        }    #T_9e8eb442_05ea_11ea_a621_f01faf54d719row5_col6 {\n",
       "            background-color:  #f7f0f7;\n",
       "            color:  #000000;\n",
       "        }    #T_9e8eb442_05ea_11ea_a621_f01faf54d719row5_col7 {\n",
       "            background-color:  #fff7fb;\n",
       "            color:  #000000;\n",
       "        }    #T_9e8eb442_05ea_11ea_a621_f01faf54d719row6_col0 {\n",
       "            background-color:  #b3c3de;\n",
       "            color:  #000000;\n",
       "        }    #T_9e8eb442_05ea_11ea_a621_f01faf54d719row6_col1 {\n",
       "            background-color:  #d4d4e8;\n",
       "            color:  #000000;\n",
       "        }    #T_9e8eb442_05ea_11ea_a621_f01faf54d719row6_col2 {\n",
       "            background-color:  #fff7fb;\n",
       "            color:  #000000;\n",
       "        }    #T_9e8eb442_05ea_11ea_a621_f01faf54d719row6_col3 {\n",
       "            background-color:  #d2d3e7;\n",
       "            color:  #000000;\n",
       "        }    #T_9e8eb442_05ea_11ea_a621_f01faf54d719row6_col4 {\n",
       "            background-color:  #d7d6e9;\n",
       "            color:  #000000;\n",
       "        }    #T_9e8eb442_05ea_11ea_a621_f01faf54d719row6_col5 {\n",
       "            background-color:  #bcc7e1;\n",
       "            color:  #000000;\n",
       "        }    #T_9e8eb442_05ea_11ea_a621_f01faf54d719row6_col6 {\n",
       "            background-color:  #023858;\n",
       "            color:  #f1f1f1;\n",
       "        }    #T_9e8eb442_05ea_11ea_a621_f01faf54d719row6_col7 {\n",
       "            background-color:  #f1ebf5;\n",
       "            color:  #000000;\n",
       "        }    #T_9e8eb442_05ea_11ea_a621_f01faf54d719row7_col0 {\n",
       "            background-color:  #adc1dd;\n",
       "            color:  #000000;\n",
       "        }    #T_9e8eb442_05ea_11ea_a621_f01faf54d719row7_col1 {\n",
       "            background-color:  #c9cee4;\n",
       "            color:  #000000;\n",
       "        }    #T_9e8eb442_05ea_11ea_a621_f01faf54d719row7_col2 {\n",
       "            background-color:  #f1ebf5;\n",
       "            color:  #000000;\n",
       "        }    #T_9e8eb442_05ea_11ea_a621_f01faf54d719row7_col3 {\n",
       "            background-color:  #d9d8ea;\n",
       "            color:  #000000;\n",
       "        }    #T_9e8eb442_05ea_11ea_a621_f01faf54d719row7_col4 {\n",
       "            background-color:  #e8e4f0;\n",
       "            color:  #000000;\n",
       "        }    #T_9e8eb442_05ea_11ea_a621_f01faf54d719row7_col5 {\n",
       "            background-color:  #b5c4df;\n",
       "            color:  #000000;\n",
       "        }    #T_9e8eb442_05ea_11ea_a621_f01faf54d719row7_col6 {\n",
       "            background-color:  #e4e1ef;\n",
       "            color:  #000000;\n",
       "        }    #T_9e8eb442_05ea_11ea_a621_f01faf54d719row7_col7 {\n",
       "            background-color:  #023858;\n",
       "            color:  #f1f1f1;\n",
       "        }</style><table id=\"T_9e8eb442_05ea_11ea_a621_f01faf54d719\" ><thead>    <tr>        <th class=\"blank level0\" ></th>        <th class=\"col_heading level0 col0\" >Pclass</th>        <th class=\"col_heading level0 col1\" >Age</th>        <th class=\"col_heading level0 col2\" >Sex</th>        <th class=\"col_heading level0 col3\" >SibSp</th>        <th class=\"col_heading level0 col4\" >Parch</th>        <th class=\"col_heading level0 col5\" >Fare</th>        <th class=\"col_heading level0 col6\" >Embarked</th>        <th class=\"col_heading level0 col7\" >Ticket</th>    </tr></thead><tbody>\n",
       "                <tr>\n",
       "                        <th id=\"T_9e8eb442_05ea_11ea_a621_f01faf54d719level0_row0\" class=\"row_heading level0 row0\" >Pclass</th>\n",
       "                        <td id=\"T_9e8eb442_05ea_11ea_a621_f01faf54d719row0_col0\" class=\"data row0 col0\" >1</td>\n",
       "                        <td id=\"T_9e8eb442_05ea_11ea_a621_f01faf54d719row0_col1\" class=\"data row0 col1\" >-0.331339</td>\n",
       "                        <td id=\"T_9e8eb442_05ea_11ea_a621_f01faf54d719row0_col2\" class=\"data row0 col2\" >-0.1319</td>\n",
       "                        <td id=\"T_9e8eb442_05ea_11ea_a621_f01faf54d719row0_col3\" class=\"data row0 col3\" >0.0830814</td>\n",
       "                        <td id=\"T_9e8eb442_05ea_11ea_a621_f01faf54d719row0_col4\" class=\"data row0 col4\" >0.0184427</td>\n",
       "                        <td id=\"T_9e8eb442_05ea_11ea_a621_f01faf54d719row0_col5\" class=\"data row0 col5\" >-0.5495</td>\n",
       "                        <td id=\"T_9e8eb442_05ea_11ea_a621_f01faf54d719row0_col6\" class=\"data row0 col6\" >-0.028566</td>\n",
       "                        <td id=\"T_9e8eb442_05ea_11ea_a621_f01faf54d719row0_col7\" class=\"data row0 col7\" >0.00014758</td>\n",
       "            </tr>\n",
       "            <tr>\n",
       "                        <th id=\"T_9e8eb442_05ea_11ea_a621_f01faf54d719level0_row1\" class=\"row_heading level0 row1\" >Age</th>\n",
       "                        <td id=\"T_9e8eb442_05ea_11ea_a621_f01faf54d719row1_col0\" class=\"data row1 col0\" >-0.331339</td>\n",
       "                        <td id=\"T_9e8eb442_05ea_11ea_a621_f01faf54d719row1_col1\" class=\"data row1 col1\" >1</td>\n",
       "                        <td id=\"T_9e8eb442_05ea_11ea_a621_f01faf54d719row1_col2\" class=\"data row1 col2\" >-0.0841534</td>\n",
       "                        <td id=\"T_9e8eb442_05ea_11ea_a621_f01faf54d719row1_col3\" class=\"data row1 col3\" >-0.232625</td>\n",
       "                        <td id=\"T_9e8eb442_05ea_11ea_a621_f01faf54d719row1_col4\" class=\"data row1 col4\" >-0.179191</td>\n",
       "                        <td id=\"T_9e8eb442_05ea_11ea_a621_f01faf54d719row1_col5\" class=\"data row1 col5\" >0.0915661</td>\n",
       "                        <td id=\"T_9e8eb442_05ea_11ea_a621_f01faf54d719row1_col6\" class=\"data row1 col6\" >-0.0235777</td>\n",
       "                        <td id=\"T_9e8eb442_05ea_11ea_a621_f01faf54d719row1_col7\" class=\"data row1 col7\" >0.0282072</td>\n",
       "            </tr>\n",
       "            <tr>\n",
       "                        <th id=\"T_9e8eb442_05ea_11ea_a621_f01faf54d719level0_row2\" class=\"row_heading level0 row2\" >Sex</th>\n",
       "                        <td id=\"T_9e8eb442_05ea_11ea_a621_f01faf54d719row2_col0\" class=\"data row2 col0\" >-0.1319</td>\n",
       "                        <td id=\"T_9e8eb442_05ea_11ea_a621_f01faf54d719row2_col1\" class=\"data row2 col1\" >-0.0841534</td>\n",
       "                        <td id=\"T_9e8eb442_05ea_11ea_a621_f01faf54d719row2_col2\" class=\"data row2 col2\" >1</td>\n",
       "                        <td id=\"T_9e8eb442_05ea_11ea_a621_f01faf54d719row2_col3\" class=\"data row2 col3\" >0.114631</td>\n",
       "                        <td id=\"T_9e8eb442_05ea_11ea_a621_f01faf54d719row2_col4\" class=\"data row2 col4\" >0.245489</td>\n",
       "                        <td id=\"T_9e8eb442_05ea_11ea_a621_f01faf54d719row2_col5\" class=\"data row2 col5\" >0.182333</td>\n",
       "                        <td id=\"T_9e8eb442_05ea_11ea_a621_f01faf54d719row2_col6\" class=\"data row2 col6\" >-0.128526</td>\n",
       "                        <td id=\"T_9e8eb442_05ea_11ea_a621_f01faf54d719row2_col7\" class=\"data row2 col7\" >-0.0294155</td>\n",
       "            </tr>\n",
       "            <tr>\n",
       "                        <th id=\"T_9e8eb442_05ea_11ea_a621_f01faf54d719level0_row3\" class=\"row_heading level0 row3\" >SibSp</th>\n",
       "                        <td id=\"T_9e8eb442_05ea_11ea_a621_f01faf54d719row3_col0\" class=\"data row3 col0\" >0.0830814</td>\n",
       "                        <td id=\"T_9e8eb442_05ea_11ea_a621_f01faf54d719row3_col1\" class=\"data row3 col1\" >-0.232625</td>\n",
       "                        <td id=\"T_9e8eb442_05ea_11ea_a621_f01faf54d719row3_col2\" class=\"data row3 col2\" >0.114631</td>\n",
       "                        <td id=\"T_9e8eb442_05ea_11ea_a621_f01faf54d719row3_col3\" class=\"data row3 col3\" >1</td>\n",
       "                        <td id=\"T_9e8eb442_05ea_11ea_a621_f01faf54d719row3_col4\" class=\"data row3 col4\" >0.414838</td>\n",
       "                        <td id=\"T_9e8eb442_05ea_11ea_a621_f01faf54d719row3_col5\" class=\"data row3 col5\" >0.159651</td>\n",
       "                        <td id=\"T_9e8eb442_05ea_11ea_a621_f01faf54d719row3_col6\" class=\"data row3 col6\" >0.0637943</td>\n",
       "                        <td id=\"T_9e8eb442_05ea_11ea_a621_f01faf54d719row3_col7\" class=\"data row3 col7\" >0.0281065</td>\n",
       "            </tr>\n",
       "            <tr>\n",
       "                        <th id=\"T_9e8eb442_05ea_11ea_a621_f01faf54d719level0_row4\" class=\"row_heading level0 row4\" >Parch</th>\n",
       "                        <td id=\"T_9e8eb442_05ea_11ea_a621_f01faf54d719row4_col0\" class=\"data row4 col0\" >0.0184427</td>\n",
       "                        <td id=\"T_9e8eb442_05ea_11ea_a621_f01faf54d719row4_col1\" class=\"data row4 col1\" >-0.179191</td>\n",
       "                        <td id=\"T_9e8eb442_05ea_11ea_a621_f01faf54d719row4_col2\" class=\"data row4 col2\" >0.245489</td>\n",
       "                        <td id=\"T_9e8eb442_05ea_11ea_a621_f01faf54d719row4_col3\" class=\"data row4 col3\" >0.414838</td>\n",
       "                        <td id=\"T_9e8eb442_05ea_11ea_a621_f01faf54d719row4_col4\" class=\"data row4 col4\" >1</td>\n",
       "                        <td id=\"T_9e8eb442_05ea_11ea_a621_f01faf54d719row4_col5\" class=\"data row4 col5\" >0.216225</td>\n",
       "                        <td id=\"T_9e8eb442_05ea_11ea_a621_f01faf54d719row4_col6\" class=\"data row4 col6\" >0.082144</td>\n",
       "                        <td id=\"T_9e8eb442_05ea_11ea_a621_f01faf54d719row4_col7\" class=\"data row4 col7\" >-0.0131508</td>\n",
       "            </tr>\n",
       "            <tr>\n",
       "                        <th id=\"T_9e8eb442_05ea_11ea_a621_f01faf54d719level0_row5\" class=\"row_heading level0 row5\" >Fare</th>\n",
       "                        <td id=\"T_9e8eb442_05ea_11ea_a621_f01faf54d719row5_col0\" class=\"data row5 col0\" >-0.5495</td>\n",
       "                        <td id=\"T_9e8eb442_05ea_11ea_a621_f01faf54d719row5_col1\" class=\"data row5 col1\" >0.0915661</td>\n",
       "                        <td id=\"T_9e8eb442_05ea_11ea_a621_f01faf54d719row5_col2\" class=\"data row5 col2\" >0.182333</td>\n",
       "                        <td id=\"T_9e8eb442_05ea_11ea_a621_f01faf54d719row5_col3\" class=\"data row5 col3\" >0.159651</td>\n",
       "                        <td id=\"T_9e8eb442_05ea_11ea_a621_f01faf54d719row5_col4\" class=\"data row5 col4\" >0.216225</td>\n",
       "                        <td id=\"T_9e8eb442_05ea_11ea_a621_f01faf54d719row5_col5\" class=\"data row5 col5\" >1</td>\n",
       "                        <td id=\"T_9e8eb442_05ea_11ea_a621_f01faf54d719row5_col6\" class=\"data row5 col6\" >-0.0710096</td>\n",
       "                        <td id=\"T_9e8eb442_05ea_11ea_a621_f01faf54d719row5_col7\" class=\"data row5 col7\" >-0.0408308</td>\n",
       "            </tr>\n",
       "            <tr>\n",
       "                        <th id=\"T_9e8eb442_05ea_11ea_a621_f01faf54d719level0_row6\" class=\"row_heading level0 row6\" >Embarked</th>\n",
       "                        <td id=\"T_9e8eb442_05ea_11ea_a621_f01faf54d719row6_col0\" class=\"data row6 col0\" >-0.028566</td>\n",
       "                        <td id=\"T_9e8eb442_05ea_11ea_a621_f01faf54d719row6_col1\" class=\"data row6 col1\" >-0.0235777</td>\n",
       "                        <td id=\"T_9e8eb442_05ea_11ea_a621_f01faf54d719row6_col2\" class=\"data row6 col2\" >-0.128526</td>\n",
       "                        <td id=\"T_9e8eb442_05ea_11ea_a621_f01faf54d719row6_col3\" class=\"data row6 col3\" >0.0637943</td>\n",
       "                        <td id=\"T_9e8eb442_05ea_11ea_a621_f01faf54d719row6_col4\" class=\"data row6 col4\" >0.082144</td>\n",
       "                        <td id=\"T_9e8eb442_05ea_11ea_a621_f01faf54d719row6_col5\" class=\"data row6 col5\" >-0.0710096</td>\n",
       "                        <td id=\"T_9e8eb442_05ea_11ea_a621_f01faf54d719row6_col6\" class=\"data row6 col6\" >1</td>\n",
       "                        <td id=\"T_9e8eb442_05ea_11ea_a621_f01faf54d719row6_col7\" class=\"data row6 col7\" >0.054459</td>\n",
       "            </tr>\n",
       "            <tr>\n",
       "                        <th id=\"T_9e8eb442_05ea_11ea_a621_f01faf54d719level0_row7\" class=\"row_heading level0 row7\" >Ticket</th>\n",
       "                        <td id=\"T_9e8eb442_05ea_11ea_a621_f01faf54d719row7_col0\" class=\"data row7 col0\" >0.00014758</td>\n",
       "                        <td id=\"T_9e8eb442_05ea_11ea_a621_f01faf54d719row7_col1\" class=\"data row7 col1\" >0.0282072</td>\n",
       "                        <td id=\"T_9e8eb442_05ea_11ea_a621_f01faf54d719row7_col2\" class=\"data row7 col2\" >-0.0294155</td>\n",
       "                        <td id=\"T_9e8eb442_05ea_11ea_a621_f01faf54d719row7_col3\" class=\"data row7 col3\" >0.0281065</td>\n",
       "                        <td id=\"T_9e8eb442_05ea_11ea_a621_f01faf54d719row7_col4\" class=\"data row7 col4\" >-0.0131508</td>\n",
       "                        <td id=\"T_9e8eb442_05ea_11ea_a621_f01faf54d719row7_col5\" class=\"data row7 col5\" >-0.0408308</td>\n",
       "                        <td id=\"T_9e8eb442_05ea_11ea_a621_f01faf54d719row7_col6\" class=\"data row7 col6\" >0.054459</td>\n",
       "                        <td id=\"T_9e8eb442_05ea_11ea_a621_f01faf54d719row7_col7\" class=\"data row7 col7\" >1</td>\n",
       "            </tr>\n",
       "    </tbody></table>"
      ],
      "text/plain": [
       "<pandas.io.formats.style.Styler at 0x130b4030>"
      ]
     },
     "execution_count": 18,
     "metadata": {},
     "output_type": "execute_result"
    }
   ],
   "source": [
    "def plot_corr(df,size=10):\n",
    "\n",
    "\n",
    "    corr = df.corr()\n",
    "    fig, ax = plt.subplots(figsize=(size, size))\n",
    "    ax.matshow(corr)\n",
    "    plt.xticks(range(len(corr.columns)), corr.columns);\n",
    "    plt.yticks(range(len(corr.columns)), corr.columns);\n",
    "# plot_corr(x_train)\n",
    "x_train.corr()\n",
    "corr.style.background_gradient()"
   ]
  },
  {
   "cell_type": "code",
   "execution_count": 19,
   "metadata": {},
   "outputs": [],
   "source": [
    "# Dividing the data into train and test data set\n",
    "X_train, X_test, Y_train, Y_test = train_test_split(x_train, y_target, test_size = 0.4, random_state = 40)"
   ]
  },
  {
   "cell_type": "code",
   "execution_count": 20,
   "metadata": {},
   "outputs": [
    {
     "name": "stderr",
     "output_type": "stream",
     "text": [
      "c:\\users\\had\\appdata\\local\\programs\\python\\python37-32\\lib\\site-packages\\sklearn\\ensemble\\forest.py:245: FutureWarning: The default value of n_estimators will change from 10 in version 0.20 to 100 in 0.22.\n",
      "  \"10 in version 0.20 to 100 in 0.22.\", FutureWarning)\n"
     ]
    },
    {
     "data": {
      "text/plain": [
       "RandomForestClassifier(bootstrap=True, class_weight=None, criterion='gini',\n",
       "                       max_depth=None, max_features='auto', max_leaf_nodes=None,\n",
       "                       min_impurity_decrease=0.0, min_impurity_split=None,\n",
       "                       min_samples_leaf=1, min_samples_split=2,\n",
       "                       min_weight_fraction_leaf=0.0, n_estimators=10,\n",
       "                       n_jobs=None, oob_score=False, random_state=None,\n",
       "                       verbose=0, warm_start=False)"
      ]
     },
     "execution_count": 20,
     "metadata": {},
     "output_type": "execute_result"
    }
   ],
   "source": [
    "clf = RandomForestClassifier()\n",
    "clf.fit(X_train, Y_train)"
   ]
  },
  {
   "cell_type": "code",
   "execution_count": 21,
   "metadata": {},
   "outputs": [
    {
     "name": "stdout",
     "output_type": "stream",
     "text": [
      "[0 0 1 0 1 0 0 0 0 0 1 1 0 0 1 0 0 1 0 0 0 1 1 1 1 1 1 0 0 0 0 0 1 0 0 1 1\n",
      " 0 0 0 0 0 0 1 1 0 0 1 0 0 1 0 1 1 1 1 0 1 1 0 0 0 0 1 1 1 1 1 0 0 1 1 0 0\n",
      " 0 0 0 1 0 1 1 0 1 0 1 1 1 1 1 1 0 1 0 1 0 1 0 0 0 1 1 0 0 0 0 0 0 1 0 0 0\n",
      " 1 0 1 0 0 1 0 0 1 0 0 1 0 1 1 0 0 1 1 1 1 1 0 0 0 1 0 0 1 0 0 0 0 1 0 0 0\n",
      " 1 0 0 0 1 1 0 0 1 0 1 0 0 0 0 1 0 0 0 0 0 0 1 0 0 0 0 1 1 0 1 0 1 0 0 1 1\n",
      " 0 1 0 0 0 0 0 0 1 0 1 1 0 0 1 0 1 0 0 0 0 0 0 1 0 1 0 0 0 0 0 0 1 1 1 1 0\n",
      " 0 1 0 1 1 0 0 0 1 1 0 0 1 0 0 0 0 1 0 0 0 0 0 0 0 0 0 0 0 0 0 1 1 1 1 0 0\n",
      " 1 0 1 0 1 1 0 0 1 0 0 1 0 0 0 0 0 0 0 0 1 0 1 0 0 1 0 0 0 0 0 0 0 1 1 0 0\n",
      " 0 0 0 0 0 0 1 1 1 1 0 1 1 1 0 1 0 1 0 1 0 0 1 0 0 1 1 0 0 0 0 1 1 1 0 0 1\n",
      " 1 0 0 1 0 1 1 0 0 1 1 0 0 0 0 0 0 1 1 0 1 0 1 0]\n",
      "Accuracy:  0.7983193277310925\n"
     ]
    }
   ],
   "source": [
    "print(clf.predict(X_test))\n",
    "print(\"Accuracy: \",clf.score(X_test, Y_test))"
   ]
  },
  {
   "cell_type": "code",
   "execution_count": 22,
   "metadata": {},
   "outputs": [
    {
     "data": {
      "text/html": [
       "<div>\n",
       "<style scoped>\n",
       "    .dataframe tbody tr th:only-of-type {\n",
       "        vertical-align: middle;\n",
       "    }\n",
       "\n",
       "    .dataframe tbody tr th {\n",
       "        vertical-align: top;\n",
       "    }\n",
       "\n",
       "    .dataframe thead th {\n",
       "        text-align: right;\n",
       "    }\n",
       "</style>\n",
       "<table border=\"1\" class=\"dataframe\">\n",
       "  <thead>\n",
       "    <tr style=\"text-align: right;\">\n",
       "      <th></th>\n",
       "      <th>PassengerId</th>\n",
       "      <th>Pclass</th>\n",
       "      <th>Name</th>\n",
       "      <th>Sex</th>\n",
       "      <th>Age</th>\n",
       "      <th>SibSp</th>\n",
       "      <th>Parch</th>\n",
       "      <th>Ticket</th>\n",
       "      <th>Fare</th>\n",
       "      <th>Cabin</th>\n",
       "      <th>Embarked</th>\n",
       "    </tr>\n",
       "  </thead>\n",
       "  <tbody>\n",
       "    <tr>\n",
       "      <td>0</td>\n",
       "      <td>892</td>\n",
       "      <td>3</td>\n",
       "      <td>Kelly, Mr. James</td>\n",
       "      <td>male</td>\n",
       "      <td>34.5</td>\n",
       "      <td>0</td>\n",
       "      <td>0</td>\n",
       "      <td>330911</td>\n",
       "      <td>7.8292</td>\n",
       "      <td>NaN</td>\n",
       "      <td>Q</td>\n",
       "    </tr>\n",
       "    <tr>\n",
       "      <td>1</td>\n",
       "      <td>893</td>\n",
       "      <td>3</td>\n",
       "      <td>Wilkes, Mrs. James (Ellen Needs)</td>\n",
       "      <td>female</td>\n",
       "      <td>47.0</td>\n",
       "      <td>1</td>\n",
       "      <td>0</td>\n",
       "      <td>363272</td>\n",
       "      <td>7.0000</td>\n",
       "      <td>NaN</td>\n",
       "      <td>S</td>\n",
       "    </tr>\n",
       "    <tr>\n",
       "      <td>2</td>\n",
       "      <td>894</td>\n",
       "      <td>2</td>\n",
       "      <td>Myles, Mr. Thomas Francis</td>\n",
       "      <td>male</td>\n",
       "      <td>62.0</td>\n",
       "      <td>0</td>\n",
       "      <td>0</td>\n",
       "      <td>240276</td>\n",
       "      <td>9.6875</td>\n",
       "      <td>NaN</td>\n",
       "      <td>Q</td>\n",
       "    </tr>\n",
       "  </tbody>\n",
       "</table>\n",
       "</div>"
      ],
      "text/plain": [
       "   PassengerId  Pclass                              Name     Sex   Age  SibSp  \\\n",
       "0          892       3                  Kelly, Mr. James    male  34.5      0   \n",
       "1          893       3  Wilkes, Mrs. James (Ellen Needs)  female  47.0      1   \n",
       "2          894       2         Myles, Mr. Thomas Francis    male  62.0      0   \n",
       "\n",
       "   Parch  Ticket    Fare Cabin Embarked  \n",
       "0      0  330911  7.8292   NaN        Q  \n",
       "1      0  363272  7.0000   NaN        S  \n",
       "2      0  240276  9.6875   NaN        Q  "
      ]
     },
     "execution_count": 22,
     "metadata": {},
     "output_type": "execute_result"
    }
   ],
   "source": [
    "## Testing the model.\n",
    "test_data = pd.read_csv('test.csv')\n",
    "test_data.head(3)\n",
    "# test_data.isnull().sum()"
   ]
  },
  {
   "cell_type": "code",
   "execution_count": 23,
   "metadata": {},
   "outputs": [
    {
     "name": "stdout",
     "output_type": "stream",
     "text": [
      "   Pclass   Age  Sex  SibSp  Parch      Fare  Ticket  Embarked\n",
      "0       3  34.5    0      0      0  0.015282      22         0\n",
      "1       3  47.0    1      1      0  0.013663     256         2\n",
      "2       2  62.0    0      0      0  0.018909     224         0\n",
      "3       3  27.0    0      0      0  0.016908     112         2\n",
      "4       3  22.0    1      1      1  0.023984     253         2\n"
     ]
    }
   ],
   "source": [
    "### Preprocessing on the test data\n",
    "test_data = test_data[['Pclass', 'Age', 'Sex', 'SibSp', 'Parch', 'Fare', 'Ticket', 'Embarked']]\n",
    "test_data = handle_non_numerical_data(test_data)\n",
    "\n",
    "fare = pd.DataFrame(test_data['Fare'])\n",
    "min_max_scaler = preprocessing.MinMaxScaler()\n",
    "newfare = min_max_scaler.fit_transform(fare)\n",
    "test_data['Fare'] = newfare\n",
    "test_data['Fare'] = test_data['Fare'].fillna(test_data['Fare'].median())\n",
    "test_data['Age'] = test_data['Age'].fillna(test_data['Age'].median())\n",
    "test_data['Sex'] = test_data['Sex'].replace('male', 0)\n",
    "test_data['Sex'] = test_data['Sex'].replace('female', 1)\n",
    "print(test_data.head())\n"
   ]
  },
  {
   "cell_type": "code",
   "execution_count": 24,
   "metadata": {},
   "outputs": [
    {
     "name": "stdout",
     "output_type": "stream",
     "text": [
      "[0 0 0 0 1 0 0 0 0 0 0 0 1 0 1 1 0 0 0 0 0 0 1 0 1 0 1 0 0 0 0 0 0 0 0 0 0\n",
      " 0 0 0 0 1 0 1 1 0 1 0 1 0 0 0 1 1 0 0 0 0 0 1 0 0 0 0 0 1 0 1 1 1 0 0 0 0\n",
      " 1 0 0 1 0 0 1 0 0 0 0 0 0 0 0 1 1 0 1 1 0 0 1 0 0 0 1 0 0 0 1 0 0 0 0 0 0\n",
      " 0 1 0 1 0 0 0 0 1 1 0 1 0 0 1 0 0 0 0 0 0 0 0 0 0 0 0 0 0 0 1 1 0 1 0 0 0\n",
      " 1 0 1 0 0 0 0 0 1 0 1 1 0 0 1 0 0 1 1 0 1 0 0 0 0 0 0 1 1 0 1 1 0 0 1 0 1\n",
      " 0 1 0 0 0 0 0 0 0 0 0 0 0 0 0 1 1 0 1 0 0 0 0 1 0 0 0 0 1 0 1 0 0 1 0 1 0\n",
      " 1 0 1 0 0 0 0 0 0 1 1 0 0 0 0 0 1 1 1 1 0 0 0 0 1 0 1 0 1 0 0 0 0 0 0 0 1\n",
      " 0 0 0 1 0 0 0 0 0 0 0 0 0 1 1 0 1 0 0 0 0 0 0 0 1 0 0 0 0 0 0 0 0 0 0 0 0\n",
      " 1 0 0 0 0 0 0 0 0 1 0 0 0 0 0 0 0 0 1 0 0 0 0 0 0 0 0 1 1 0 1 0 0 0 1 1 0\n",
      " 1 0 0 0 0 0 0 0 0 0 1 0 0 0 0 0 1 1 0 0 1 1 0 1 0 0 1 0 1 1 0 1 0 0 0 1 0\n",
      " 0 1 0 0 1 1 0 0 0 0 0 0 1 1 0 1 0 0 0 0 0 1 0 0 0 1 0 1 0 0 1 0 1 0 1 0 0\n",
      " 0 0 0 0 1 0 0 1 0 0 0]\n"
     ]
    }
   ],
   "source": [
    "print(clf.predict(test_data))"
   ]
  },
  {
   "cell_type": "code",
   "execution_count": 25,
   "metadata": {},
   "outputs": [
    {
     "name": "stdout",
     "output_type": "stream",
     "text": [
      "Precision: 0.7529411764705882\n",
      "Recall: 0.6183574879227053\n"
     ]
    }
   ],
   "source": [
    "from sklearn.model_selection import cross_val_predict\n",
    "predictions = cross_val_predict(clf, X_train, Y_train, cv=3)\n",
    "print(\"Precision:\", precision_score(Y_train, predictions))\n",
    "print(\"Recall:\",recall_score(Y_train, predictions))"
   ]
  },
  {
   "cell_type": "code",
   "execution_count": 26,
   "metadata": {},
   "outputs": [
    {
     "data": {
      "image/png": "[encoded data removed]",
      "text/plain": [
       "<Figure size 1008x504 with 1 Axes>"
      ]
     },
     "metadata": {
      "needs_background": "light"
     },
     "output_type": "display_data"
    }
   ],
   "source": [
    "from sklearn.metrics import precision_recall_curve\n",
    "\n",
    "# getting the probabilities of our predictions\n",
    "y_scores = clf.predict_proba(X_train)\n",
    "y_scores = y_scores[:,1]\n",
    "\n",
    "precision, recall, threshold = precision_recall_curve(Y_train, y_scores)\n",
    "def plot_precision_and_recall(precision, recall, threshold):\n",
    "    plt.plot(threshold, precision[:-1], \"r-\", label=\"precision\", linewidth=5)\n",
    "    plt.plot(threshold, recall[:-1], \"b\", label=\"recall\", linewidth=5)\n",
    "    plt.xlabel(\"threshold\", fontsize=19)\n",
    "    plt.legend(loc=\"upper right\", fontsize=19)\n",
    "    plt.ylim([0, 1])\n",
    "\n",
    "plt.figure(figsize=(14, 7))\n",
    "plot_precision_and_recall(precision, recall, threshold)\n",
    "plt.axis([0.3,0.8,0.8,1])\n",
    "plt.show()"
   ]
  },
  {
   "cell_type": "code",
   "execution_count": 27,
   "metadata": {},
   "outputs": [
    {
     "data": {
      "image/png": "[encoded data removed]",
      "text/plain": [
       "<Figure size 1008x504 with 1 Axes>"
      ]
     },
     "metadata": {
      "needs_background": "light"
     },
     "output_type": "display_data"
    }
   ],
   "source": [
    "def plot_precision_vs_recall(precision, recall):\n",
    "    plt.plot(recall, precision, \"g--\", linewidth=2.5)\n",
    "    plt.ylabel(\"recall\", fontsize=19)\n",
    "    plt.xlabel(\"precision\", fontsize=19)\n",
    "    plt.axis([0, 1.5, 0, 1.5])\n",
    "\n",
    "plt.figure(figsize=(14, 7))\n",
    "plot_precision_vs_recall(precision, recall)\n",
    "plt.show()"
   ]
  },
  {
   "cell_type": "code",
   "execution_count": 28,
   "metadata": {},
   "outputs": [
    {
     "data": {
      "text/plain": [
       "array([[283,  44],\n",
       "       [ 73, 134]], dtype=int64)"
      ]
     },
     "execution_count": 28,
     "metadata": {},
     "output_type": "execute_result"
    }
   ],
   "source": [
    "from sklearn.model_selection import cross_val_predict\n",
    "from sklearn.metrics import confusion_matrix\n",
    "predictions = cross_val_predict(clf, X_train, Y_train, cv=3)\n",
    "confusion_matrix(Y_train, predictions)"
   ]
  },
  {
   "cell_type": "markdown",
   "metadata": {},
   "source": [
    "True positive: 293 (We predicted a positive result and it was positive)\n",
    "True negative: 143 (We predicted a negative result and it was negative)\n",
    "False positive: 34 (We predicted a positive result and it was negative)\n",
    "False negative: 64 (We predicted a negative result and it was positive)"
   ]
  },
  {
   "cell_type": "markdown",
   "metadata": {},
   "source": [
    "### data v"
   ]
  },
  {
   "cell_type": "code",
   "execution_count": 29,
   "metadata": {},
   "outputs": [
    {
     "data": {
      "image/png": "[encoded data removed]",
      "text/plain": [
       "<Figure size 720x288 with 2 Axes>"
      ]
     },
     "metadata": {
      "needs_background": "light"
     },
     "output_type": "display_data"
    }
   ],
   "source": [
    "import seaborn as sns\n",
    "survived = 'survived'\n",
    "not_survived = 'not survived'\n",
    "fig, axes = plt.subplots(nrows=1, ncols=2,figsize=(10, 4))\n",
    "women = data[data['Sex']=='female']\n",
    "men = data[data['Sex']=='male']\n",
    "ax = sns.distplot(women[women['Survived']==1].Age.dropna(), bins=18, label = survived, ax = axes[0], kde =False)\n",
    "ax = sns.distplot(women[women['Survived']==0].Age.dropna(), bins=40, label = not_survived, ax = axes[0], kde =False)\n",
    "ax.legend()\n",
    "ax.set_title('Female')\n",
    "ax = sns.distplot(men[men['Survived']==1].Age.dropna(), bins=18, label = survived, ax = axes[1], kde = False)\n",
    "ax = sns.distplot(men[men['Survived']==0].Age.dropna(), bins=40, label = not_survived, ax = axes[1], kde = False)\n",
    "ax.legend()\n",
    "_ = ax.set_title('Male')"
   ]
  },
  {
   "cell_type": "code",
   "execution_count": 30,
   "metadata": {},
   "outputs": [
    {
     "name": "stderr",
     "output_type": "stream",
     "text": [
      "c:\\users\\had\\appdata\\local\\programs\\python\\python37-32\\lib\\site-packages\\seaborn\\axisgrid.py:230: UserWarning: The `size` paramter has been renamed to `height`; please update your code.\n",
      "  warnings.warn(msg, UserWarning)\n"
     ]
    },
    {
     "data": {
      "text/plain": [
       "<seaborn.axisgrid.FacetGrid at 0x1439f5b0>"
      ]
     },
     "execution_count": 30,
     "metadata": {},
     "output_type": "execute_result"
    },
    {
     "data": {
      "image/png": "[encoded data removed]",
      "text/plain": [
       "<Figure size 588.9x972 with 3 Axes>"
      ]
     },
     "metadata": {
      "needs_background": "light"
     },
     "output_type": "display_data"
    }
   ],
   "source": [
    "FacetGrid = sns.FacetGrid(data, row='Embarked', size=4.5, aspect=1.6)\n",
    "FacetGrid.map(sns.pointplot, 'Pclass', 'Survived', 'Sex', palette=None,  order=None, hue_order=None )\n",
    "FacetGrid.add_legend()"
   ]
  },
  {
   "cell_type": "markdown",
   "metadata": {},
   "source": [
    "#### Embarked seems to be correlated with survival, depending on the gender.\n",
    "Women on port Q and on port S have a higher chance of survival. The inverse is true, if they are at port C. Men have a high survival probability if they are on port C, but a low probability if they are on port Q or S."
   ]
  },
  {
   "cell_type": "code",
   "execution_count": 31,
   "metadata": {},
   "outputs": [
    {
     "data": {
      "image/png": "[encoded data removed]",
      "text/plain": [
       "<Figure size 432x288 with 1 Axes>"
      ]
     },
     "metadata": {
      "needs_background": "light"
     },
     "output_type": "display_data"
    }
   ],
   "source": [
    "sns.barplot('Pclass', 'Survived', data=data, color=\"darkturquoise\")\n",
    "plt.show()"
   ]
  },
  {
   "cell_type": "code",
   "execution_count": 32,
   "metadata": {},
   "outputs": [
    {
     "data": {
      "image/png": "[encoded data removed]",
      "text/plain": [
       "<Figure size 432x288 with 1 Axes>"
      ]
     },
     "metadata": {
      "needs_background": "light"
     },
     "output_type": "display_data"
    }
   ],
   "source": [
    "sns.barplot('Embarked', 'Survived', data=data, color=\"teal\")\n",
    "plt.show()"
   ]
  },
  {
   "cell_type": "code",
   "execution_count": 33,
   "metadata": {},
   "outputs": [
    {
     "data": {
      "image/png": "[encoded data removed]",
      "text/plain": [
       "<Figure size 432x288 with 1 Axes>"
      ]
     },
     "metadata": {
      "needs_background": "light"
     },
     "output_type": "display_data"
    }
   ],
   "source": [
    "sns.barplot('Sex', 'Survived', data=data, color=\"aquamarine\")\n",
    "plt.show()"
   ]
  },
  {
   "cell_type": "code",
   "execution_count": 34,
   "metadata": {},
   "outputs": [
    {
     "name": "stdout",
     "output_type": "stream",
     "text": [
      "[0 0 1 0 1 0 0 0 0 0 1 1 0 0 1 0 0 1 0 0 0 1 1 1 1 1 1 0 0 0 0 0 1 0 0 1 1\n",
      " 0 0 0 0 0 0 1 1 0 0 1 0 0 1 0 1 1 1 1 0 1 1 0 0 0 0 1 1 1 1 1 0 0 1 1 0 0\n",
      " 0 0 0 1 0 1 1 0 1 0 1 1 1 1 1 1 0 1 0 1 0 1 0 0 0 1 1 0 0 0 0 0 0 1 0 0 0\n",
      " 1 0 1 0 0 1 0 0 1 0 0 1 0 1 1 0 0 1 1 1 1 1 0 0 0 1 0 0 1 0 0 0 0 1 0 0 0\n",
      " 1 0 0 0 1 1 0 0 1 0 1 0 0 0 0 1 0 0 0 0 0 0 1 0 0 0 0 1 1 0 1 0 1 0 0 1 1\n",
      " 0 1 0 0 0 0 0 0 1 0 1 1 0 0 1 0 1 0 0 0 0 0 0 1 0 1 0 0 0 0 0 0 1 1 1 1 0\n",
      " 0 1 0 1 1 0 0 0 1 1 0 0 1 0 0 0 0 1 0 0 0 0 0 0 0 0 0 0 0 0 0 1 1 1 1 0 0\n",
      " 1 0 1 0 1 1 0 0 1 0 0 1 0 0 0 0 0 0 0 0 1 0 1 0 0 1 0 0 0 0 0 0 0 1 1 0 0\n",
      " 0 0 0 0 0 0 1 1 1 1 0 1 1 1 0 1 0 1 0 1 0 0 1 0 0 1 1 0 0 0 0 1 1 1 0 0 1\n",
      " 1 0 0 1 0 1 1 0 0 1 1 0 0 0 0 0 0 1 1 0 1 0 1 0]\n",
      "Accuracy:  0.7983193277310925\n"
     ]
    }
   ],
   "source": [
    "print(clf.predict(X_test))\n",
    "print(\"Accuracy: \",clf.score(X_test, Y_test))"
   ]
  },
  {
   "cell_type": "code",
   "execution_count": null,
   "metadata": {},
   "outputs": [],
   "source": []
  },
  {
   "cell_type": "markdown",
   "metadata": {},
   "source": [
    "### implementation of Ensemble RFC"
   ]
  },
  {
   "cell_type": "markdown",
   "metadata": {},
   "source": [
    "from sklearn.ensemble import RandomForestClassifier\n",
    "\n",
    "random_forest = RandomForestClassifier(n_estimators=100)\n",
    "random_forest.fit(X_train, Y_train)\n",
    "random_forest.score(X_train, Y_train)"
   ]
  },
  {
   "cell_type": "markdown",
   "metadata": {},
   "source": [
    "### Implementation of KNN"
   ]
  },
  {
   "cell_type": "code",
   "execution_count": 35,
   "metadata": {},
   "outputs": [
    {
     "name": "stdout",
     "output_type": "stream",
     "text": [
      "Precision: 0.7606382978723404\n",
      "Recall: 0.6908212560386473\n"
     ]
    }
   ],
   "source": [
    "\n",
    "from sklearn.model_selection import cross_val_predict\n",
    "predictions = cross_val_predict(clf, X_train, Y_train, cv=3)\n",
    "print(\"Precision:\", precision_score(Y_train, predictions))\n",
    "print(\"Recall:\",recall_score(Y_train, predictions))"
   ]
  },
  {
   "cell_type": "code",
   "execution_count": 36,
   "metadata": {},
   "outputs": [
    {
     "data": {
      "text/plain": [
       "KNeighborsClassifier(algorithm='auto', leaf_size=30, metric='minkowski',\n",
       "                     metric_params=None, n_jobs=None, n_neighbors=5, p=2,\n",
       "                     weights='uniform')"
      ]
     },
     "execution_count": 36,
     "metadata": {},
     "output_type": "execute_result"
    }
   ],
   "source": [
    "from sklearn.neighbors import KNeighborsClassifier\n",
    "clf=KNeighborsClassifier()\n",
    "clf.fit(X_train,Y_train)"
   ]
  },
  {
   "cell_type": "code",
   "execution_count": 37,
   "metadata": {},
   "outputs": [],
   "source": [
    "predictions=clf.predict(X_test)"
   ]
  },
  {
   "cell_type": "code",
   "execution_count": 38,
   "metadata": {},
   "outputs": [
    {
     "name": "stdout",
     "output_type": "stream",
     "text": [
      "0.5742296918767507\n"
     ]
    }
   ],
   "source": [
    "from sklearn.metrics import accuracy_score\n",
    "print(accuracy_score(Y_test,predictions))"
   ]
  },
  {
   "cell_type": "markdown",
   "metadata": {},
   "source": [
    "### Implementation of Logistic Regression "
   ]
  },
  {
   "cell_type": "code",
   "execution_count": 53,
   "metadata": {},
   "outputs": [
    {
     "name": "stdout",
     "output_type": "stream",
     "text": [
      "0.7902621722846442\n"
     ]
    },
    {
     "name": "stderr",
     "output_type": "stream",
     "text": [
      "c:\\users\\had\\appdata\\local\\programs\\python\\python37-32\\lib\\site-packages\\sklearn\\linear_model\\logistic.py:432: FutureWarning: Default solver will be changed to 'lbfgs' in 0.22. Specify a solver to silence this warning.\n",
      "  FutureWarning)\n"
     ]
    }
   ],
   "source": [
    "from sklearn.linear_model import LogisticRegression, Perceptron, SGDClassifier\n",
    "LR = LogisticRegression(random_state = 0)\n",
    "LR.fit(X_train, Y_train)\n",
    "y_pred_lr = LR.predict(X_test)\n",
    "LR_score = LR.score(X_train,Y_train)\n",
    "print(LR_score)"
   ]
  },
  {
   "cell_type": "markdown",
   "metadata": {},
   "source": [
    "### implementation of Decision Tree"
   ]
  },
  {
   "cell_type": "code",
   "execution_count": 51,
   "metadata": {},
   "outputs": [
    {
     "name": "stdout",
     "output_type": "stream",
     "text": [
      "0.99812734082397\n"
     ]
    }
   ],
   "source": [
    "from sklearn.tree import DecisionTreeClassifier\n",
    "DT = DecisionTreeClassifier()\n",
    "DT.fit(X_train, Y_train)\n",
    "y_pred_dt = DT.predict(X_test)\n",
    "DT_score = DT.score(X_train, Y_train)\n",
    "print (DT_score)"
   ]
  },
  {
   "cell_type": "markdown",
   "metadata": {},
   "source": [
    "### implementation of SVM(Support Victor Machine)"
   ]
  },
  {
   "cell_type": "code",
   "execution_count": 66,
   "metadata": {},
   "outputs": [
    {
     "name": "stdout",
     "output_type": "stream",
     "text": [
      "0.7883895131086143\n"
     ]
    }
   ],
   "source": [
    "from sklearn.svm import SVC, LinearSVC\n",
    "svc = SVC(random_state = 0 ,C=1.0, kernel=\"linear\")\n",
    "svc.fit(X_train, Y_train)\n",
    "y_pred_svc = svc.predict(X_test)\n",
    "SVC_score = svc.score(X_train, Y_train)\n",
    "print(SVC_score)"
   ]
  },
  {
   "cell_type": "code",
   "execution_count": 58,
   "metadata": {},
   "outputs": [
    {
     "name": "stderr",
     "output_type": "stream",
     "text": [
      "c:\\users\\had\\appdata\\local\\programs\\python\\python37-32\\lib\\site-packages\\sklearn\\svm\\base.py:193: FutureWarning: The default value of gamma will change from 'auto' to 'scale' in version 0.22 to account better for unscaled features. Set gamma explicitly to 'auto' or 'scale' to avoid this warning.\n",
      "  \"avoid this warning.\", FutureWarning)\n",
      "c:\\users\\had\\appdata\\local\\programs\\python\\python37-32\\lib\\site-packages\\sklearn\\svm\\base.py:193: FutureWarning: The default value of gamma will change from 'auto' to 'scale' in version 0.22 to account better for unscaled features. Set gamma explicitly to 'auto' or 'scale' to avoid this warning.\n",
      "  \"avoid this warning.\", FutureWarning)\n",
      "c:\\users\\had\\appdata\\local\\programs\\python\\python37-32\\lib\\site-packages\\sklearn\\svm\\base.py:193: FutureWarning: The default value of gamma will change from 'auto' to 'scale' in version 0.22 to account better for unscaled features. Set gamma explicitly to 'auto' or 'scale' to avoid this warning.\n",
      "  \"avoid this warning.\", FutureWarning)\n"
     ]
    },
    {
     "data": {
      "text/plain": [
       "array([[289,  38],\n",
       "       [176,  31]], dtype=int64)"
      ]
     },
     "execution_count": 58,
     "metadata": {},
     "output_type": "execute_result"
    }
   ],
   "source": [
    "from sklearn.model_selection import cross_val_predict\n",
    "from sklearn.metrics import confusion_matrix\n",
    "predictions = cross_val_predict(svc, X_train, Y_train, cv=3)\n",
    "confusion_matrix(Y_train, predictions)"
   ]
  },
  {
   "cell_type": "code",
   "execution_count": 60,
   "metadata": {},
   "outputs": [
    {
     "name": "stderr",
     "output_type": "stream",
     "text": [
      "c:\\users\\had\\appdata\\local\\programs\\python\\python37-32\\lib\\site-packages\\sklearn\\svm\\base.py:193: FutureWarning: The default value of gamma will change from 'auto' to 'scale' in version 0.22 to account better for unscaled features. Set gamma explicitly to 'auto' or 'scale' to avoid this warning.\n",
      "  \"avoid this warning.\", FutureWarning)\n",
      "c:\\users\\had\\appdata\\local\\programs\\python\\python37-32\\lib\\site-packages\\sklearn\\svm\\base.py:193: FutureWarning: The default value of gamma will change from 'auto' to 'scale' in version 0.22 to account better for unscaled features. Set gamma explicitly to 'auto' or 'scale' to avoid this warning.\n",
      "  \"avoid this warning.\", FutureWarning)\n",
      "c:\\users\\had\\appdata\\local\\programs\\python\\python37-32\\lib\\site-packages\\sklearn\\svm\\base.py:193: FutureWarning: The default value of gamma will change from 'auto' to 'scale' in version 0.22 to account better for unscaled features. Set gamma explicitly to 'auto' or 'scale' to avoid this warning.\n",
      "  \"avoid this warning.\", FutureWarning)\n"
     ]
    },
    {
     "data": {
      "text/plain": [
       "array([[290,  37],\n",
       "       [176,  31]], dtype=int64)"
      ]
     },
     "execution_count": 60,
     "metadata": {},
     "output_type": "execute_result"
    }
   ],
   "source": [
    "from sklearn.model_selection import cross_val_predict\n",
    "from sklearn.metrics import confusion_matrix\n",
    "predictions = cross_val_predict(svc, X_train, Y_train, cv=3)\n",
    "confusion_matrix(Y_train, predictions)"
   ]
  },
  {
   "cell_type": "code",
   "execution_count": 62,
   "metadata": {},
   "outputs": [
    {
     "name": "stderr",
     "output_type": "stream",
     "text": [
      "c:\\users\\had\\appdata\\local\\programs\\python\\python37-32\\lib\\site-packages\\sklearn\\svm\\base.py:193: FutureWarning: The default value of gamma will change from 'auto' to 'scale' in version 0.22 to account better for unscaled features. Set gamma explicitly to 'auto' or 'scale' to avoid this warning.\n",
      "  \"avoid this warning.\", FutureWarning)\n",
      "c:\\users\\had\\appdata\\local\\programs\\python\\python37-32\\lib\\site-packages\\sklearn\\svm\\base.py:193: FutureWarning: The default value of gamma will change from 'auto' to 'scale' in version 0.22 to account better for unscaled features. Set gamma explicitly to 'auto' or 'scale' to avoid this warning.\n",
      "  \"avoid this warning.\", FutureWarning)\n",
      "c:\\users\\had\\appdata\\local\\programs\\python\\python37-32\\lib\\site-packages\\sklearn\\svm\\base.py:193: FutureWarning: The default value of gamma will change from 'auto' to 'scale' in version 0.22 to account better for unscaled features. Set gamma explicitly to 'auto' or 'scale' to avoid this warning.\n",
      "  \"avoid this warning.\", FutureWarning)\n"
     ]
    },
    {
     "data": {
      "text/plain": [
       "array([[289,  38],\n",
       "       [176,  31]], dtype=int64)"
      ]
     },
     "execution_count": 62,
     "metadata": {},
     "output_type": "execute_result"
    }
   ],
   "source": [
    "from sklearn.model_selection import cross_val_predict\n",
    "from sklearn.metrics import confusion_matrix\n",
    "predictions = cross_val_predict(svc, X_train, Y_train, cv=3)\n",
    "confusion_matrix(Y_train, predictions)"
   ]
  },
  {
   "cell_type": "code",
   "execution_count": 64,
   "metadata": {},
   "outputs": [
    {
     "name": "stderr",
     "output_type": "stream",
     "text": [
      "c:\\users\\had\\appdata\\local\\programs\\python\\python37-32\\lib\\site-packages\\sklearn\\svm\\base.py:193: FutureWarning: The default value of gamma will change from 'auto' to 'scale' in version 0.22 to account better for unscaled features. Set gamma explicitly to 'auto' or 'scale' to avoid this warning.\n",
      "  \"avoid this warning.\", FutureWarning)\n",
      "c:\\users\\had\\appdata\\local\\programs\\python\\python37-32\\lib\\site-packages\\sklearn\\svm\\base.py:193: FutureWarning: The default value of gamma will change from 'auto' to 'scale' in version 0.22 to account better for unscaled features. Set gamma explicitly to 'auto' or 'scale' to avoid this warning.\n",
      "  \"avoid this warning.\", FutureWarning)\n",
      "c:\\users\\had\\appdata\\local\\programs\\python\\python37-32\\lib\\site-packages\\sklearn\\svm\\base.py:193: FutureWarning: The default value of gamma will change from 'auto' to 'scale' in version 0.22 to account better for unscaled features. Set gamma explicitly to 'auto' or 'scale' to avoid this warning.\n",
      "  \"avoid this warning.\", FutureWarning)\n"
     ]
    },
    {
     "data": {
      "text/plain": [
       "array([[311,  16],\n",
       "       [182,  25]], dtype=int64)"
      ]
     },
     "execution_count": 64,
     "metadata": {},
     "output_type": "execute_result"
    }
   ],
   "source": [
    "from sklearn.model_selection import cross_val_predict\n",
    "from sklearn.metrics import confusion_matrix\n",
    "predictions = cross_val_predict(svc, X_train, Y_train, cv=3)\n",
    "confusion_matrix(Y_train, predictions)"
   ]
  },
  {
   "cell_type": "code",
   "execution_count": 67,
   "metadata": {},
   "outputs": [
    {
     "data": {
      "text/plain": [
       "array([[287,  40],\n",
       "       [ 73, 134]], dtype=int64)"
      ]
     },
     "execution_count": 67,
     "metadata": {},
     "output_type": "execute_result"
    }
   ],
   "source": [
    "from sklearn.model_selection import cross_val_predict\n",
    "from sklearn.metrics import confusion_matrix\n",
    "predictions = cross_val_predict(svc, X_train, Y_train, cv=3)\n",
    "confusion_matrix(Y_train, predictions)"
   ]
  },
  {
   "cell_type": "code",
   "execution_count": 68,
   "metadata": {},
   "outputs": [],
   "source": [
    "# array([[289,  38],\n",
    "#        [176,  31]], dtype=int64)"
   ]
  },
  {
   "cell_type": "code",
   "execution_count": 71,
   "metadata": {},
   "outputs": [
    {
     "data": {
      "text/plain": [
       "0.4492753623188406"
      ]
     },
     "execution_count": 71,
     "metadata": {},
     "output_type": "execute_result"
    }
   ],
   "source": [
    "31/(38+31)"
   ]
  },
  {
   "cell_type": "code",
   "execution_count": 72,
   "metadata": {},
   "outputs": [
    {
     "data": {
      "text/plain": [
       "0.7701149425287356"
      ]
     },
     "execution_count": 72,
     "metadata": {},
     "output_type": "execute_result"
    }
   ],
   "source": [
    "134/(40+134)"
   ]
  },
  {
   "cell_type": "code",
   "execution_count": 73,
   "metadata": {},
   "outputs": [
    {
     "data": {
      "text/plain": [
       "0.6473429951690821"
      ]
     },
     "execution_count": 73,
     "metadata": {},
     "output_type": "execute_result"
    }
   ],
   "source": [
    "134/(134+73)"
   ]
  },
  {
   "cell_type": "code",
   "execution_count": 74,
   "metadata": {},
   "outputs": [
    {
     "data": {
      "text/plain": [
       "0.1497584541062802"
      ]
     },
     "execution_count": 74,
     "metadata": {},
     "output_type": "execute_result"
    }
   ],
   "source": [
    "31/(176+31)"
   ]
  },
  {
   "cell_type": "code",
   "execution_count": null,
   "metadata": {},
   "outputs": [],
   "source": []
  }
 ],
 "metadata": {
  "kernelspec": {
   "display_name": "Python 3",
   "language": "python",
   "name": "python3"
  },
  "language_info": {
   "codemirror_mode": {
    "name": "ipython",
    "version": 3
   },
   "file_extension": ".py",
   "mimetype": "text/x-python",
   "name": "python",
   "nbconvert_exporter": "python",
   "pygments_lexer": "ipython3",
   "version": "3.7.2"
  }
 },
 "nbformat": 4,
 "nbformat_minor": 2
}
